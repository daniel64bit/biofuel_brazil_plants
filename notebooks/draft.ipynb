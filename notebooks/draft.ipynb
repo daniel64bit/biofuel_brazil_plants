{
 "cells": [
  {
   "cell_type": "code",
   "execution_count": null,
   "metadata": {},
   "outputs": [],
   "source": [
    "# df = catalog.load('raw_renovabio_plants_validos')\n",
    "# df = catalog.load('refined_renovabio_plants')\n",
    "# df = catalog.load('refined_dm_plant_address')"
   ]
  },
  {
   "cell_type": "code",
   "execution_count": null,
   "metadata": {},
   "outputs": [],
   "source": [
    "import pandas as pd\n",
    "import numpy as np\n",
    "from biofuel_brazil_plants.utils import utils\n",
    "\n",
    "from biofuel_brazil_plants.pipelines.biofuel_plants_map.nodes import *"
   ]
  },
  {
   "cell_type": "code",
   "execution_count": null,
   "metadata": {},
   "outputs": [],
   "source": [
    "pd.options.display.max_columns = None"
   ]
  },
  {
   "cell_type": "code",
   "execution_count": null,
   "metadata": {},
   "outputs": [],
   "source": [
    "rf_renovabio_plants=catalog.load(\"refined_renovabio_plants\")\n",
    "rf_dm_plant_address=catalog.load(\"refined_dm_plant_address\")\n",
    "icon_path=catalog.load(\"params:biomass_energy\")\n",
    "biofuel_plants_map_path=catalog.load(\"params:biofuel_plants_map_path\")"
   ]
  },
  {
   "cell_type": "code",
   "execution_count": null,
   "metadata": {},
   "outputs": [],
   "source": [
    "rf_renovabio_plants_geocoded = merge_plants_with_adress(\n",
    "        rf_renovabio_plants, rf_dm_plant_address\n",
    "    )"
   ]
  },
  {
   "cell_type": "code",
   "execution_count": null,
   "metadata": {},
   "outputs": [],
   "source": [
    "biofuel_plants_map = folium.Map(\n",
    "    location=[-14.2350, -51.9253], zoom_start=4, tiles=\"OpenStreetMap\"\n",
    ")"
   ]
  },
  {
   "cell_type": "code",
   "execution_count": null,
   "metadata": {},
   "outputs": [],
   "source": [
    "# Markers with different categories\n",
    "markers = {}\n",
    "biofuel_list = rf_renovabio_plants_geocoded['BIOCOMBUSTIVEL'].unique()\n",
    "for biofuel in biofuel_list:\n",
    "    markers[biofuel] = folium.FeatureGroup(name=biofuel)"
   ]
  },
  {
   "cell_type": "code",
   "execution_count": null,
   "metadata": {},
   "outputs": [],
   "source": [
    "for biofuel in biofuel_list:\n",
    "    temp_df = rf_renovabio_plants_geocoded[\n",
    "        rf_renovabio_plants_geocoded['BIOCOMBUSTIVEL'] == biofuel\n",
    "    ].copy()\n",
    "\n",
    "    for index, row in temp_df.iterrows():\n",
    "        marker_content = generate_marker_content(\n",
    "            row[\"RAZAO_SOCIAL\"],\n",
    "            row[\"DS_END\"],\n",
    "            row[\"NO_END\"],\n",
    "            row[\"CIDADE\"],\n",
    "            row[\"UF\"],\n",
    "            row[\"CEP\"],\n",
    "            row[\"BIOCOMBUSTIVEL\"],\n",
    "            row[\"DS_ROTA\"],\n",
    "            int(row[\"LITROS_CBIO\"]),\n",
    "            row[\"LATITUDE_google\"],\n",
    "            row[\"LONGITUDE_google\"],\n",
    "        )\n",
    "        marker = create_marker(\n",
    "            row[\"LATITUDE_google\"],\n",
    "            row[\"LONGITUDE_google\"],\n",
    "            marker_content,\n",
    "            '../docs/biomass-energy.png'\n",
    "        )\n",
    "        markers[biofuel].add_child(marker)"
   ]
  },
  {
   "cell_type": "code",
   "execution_count": null,
   "metadata": {},
   "outputs": [],
   "source": [
    "for marker_biofuel in markers.values():\n",
    "    biofuel_plants_map.add_child(marker_biofuel)"
   ]
  },
  {
   "cell_type": "code",
   "execution_count": null,
   "metadata": {},
   "outputs": [],
   "source": [
    "folium.LayerControl().add_to(biofuel_plants_map);"
   ]
  },
  {
   "cell_type": "code",
   "execution_count": null,
   "metadata": {},
   "outputs": [],
   "source": [
    "biofuel_plants_map"
   ]
  },
  {
   "cell_type": "code",
   "execution_count": null,
   "metadata": {},
   "outputs": [],
   "source": [
    "for index, row in rf_renovabio_plants_geocoded.iterrows():\n",
    "    marker_content = generate_marker_content(\n",
    "        row[\"RAZAO_SOCIAL\"],\n",
    "        row[\"DS_END\"],\n",
    "        row[\"NO_END\"],\n",
    "        row[\"CIDADE\"],\n",
    "        row[\"UF\"],\n",
    "        row[\"CEP\"],\n",
    "        row[\"BIOCOMBUSTIVEL\"],\n",
    "        row[\"DS_ROTA\"],\n",
    "        int(row[\"LITROS_CBIO\"]),\n",
    "        row[\"LATITUDE_google\"],\n",
    "        row[\"LONGITUDE_google\"],\n",
    "    )\n",
    "    marker = create_marker(\n",
    "        row[\"LATITUDE_google\"],\n",
    "        row[\"LONGITUDE_google\"],\n",
    "        marker_content,\n",
    "        icon_path\n",
    "    )\n",
    "\n",
    "    marker.add_to(biofuel_plants_map)"
   ]
  }
 ],
 "metadata": {
  "kernelspec": {
   "display_name": "Kedro (ethanol_brazil_plants)",
   "language": "python",
   "name": "kedro_ethanol_brazil_plants"
  },
  "language_info": {
   "codemirror_mode": {
    "name": "ipython",
    "version": 3
   },
   "file_extension": ".py",
   "mimetype": "text/x-python",
   "name": "python",
   "nbconvert_exporter": "python",
   "pygments_lexer": "ipython3",
   "version": "3.9.17"
  },
  "orig_nbformat": 4
 },
 "nbformat": 4,
 "nbformat_minor": 2
}
