{
 "cells": [
  {
   "cell_type": "code",
   "execution_count": 1,
   "metadata": {},
   "outputs": [
    {
     "data": {
      "text/html": [
       "<pre style=\"white-space:pre;overflow-x:auto;line-height:normal;font-family:Menlo,'DejaVu Sans Mono',consolas,'Courier New',monospace\"><span style=\"color: #7fbfbf; text-decoration-color: #7fbfbf\">[08/17/23 22:30:49] </span><span style=\"color: #000080; text-decoration-color: #000080\">INFO    </span> Loading data from <span style=\"color: #008000; text-decoration-color: #008000\">'refined_renovabio_plants'</span> <span style=\"font-weight: bold\">(</span>ParquetDataSet<span style=\"font-weight: bold\">)</span><span style=\"color: #808000; text-decoration-color: #808000\">...</span>   <a href=\"file://c:\\Users\\daniel.silva\\AppData\\Local\\miniconda3\\envs\\kedro-std\\lib\\site-packages\\kedro\\io\\data_catalog.py\" target=\"_blank\"><span style=\"color: #7f7f7f; text-decoration-color: #7f7f7f\">data_catalog.py</span></a><span style=\"color: #7f7f7f; text-decoration-color: #7f7f7f\">:</span><a href=\"file://c:\\Users\\daniel.silva\\AppData\\Local\\miniconda3\\envs\\kedro-std\\lib\\site-packages\\kedro\\io\\data_catalog.py#475\" target=\"_blank\"><span style=\"color: #7f7f7f; text-decoration-color: #7f7f7f\">475</span></a>\n",
       "</pre>\n"
      ],
      "text/plain": [
       "\u001b[2;36m[08/17/23 22:30:49]\u001b[0m\u001b[2;36m \u001b[0m\u001b[34mINFO    \u001b[0m Loading data from \u001b[32m'refined_renovabio_plants'\u001b[0m \u001b[1m(\u001b[0mParquetDataSet\u001b[1m)\u001b[0m\u001b[33m...\u001b[0m   \u001b]8;id=96699;file://c:\\Users\\daniel.silva\\AppData\\Local\\miniconda3\\envs\\kedro-std\\lib\\site-packages\\kedro\\io\\data_catalog.py\u001b\\\u001b[2mdata_catalog.py\u001b[0m\u001b]8;;\u001b\\\u001b[2m:\u001b[0m\u001b]8;id=474717;file://c:\\Users\\daniel.silva\\AppData\\Local\\miniconda3\\envs\\kedro-std\\lib\\site-packages\\kedro\\io\\data_catalog.py#475\u001b\\\u001b[2m475\u001b[0m\u001b]8;;\u001b\\\n"
      ]
     },
     "metadata": {},
     "output_type": "display_data"
    }
   ],
   "source": [
    "# df = catalog.load('raw_renovabio_plants_validos')\n",
    "df = catalog.load('refined_renovabio_plants')"
   ]
  },
  {
   "cell_type": "code",
   "execution_count": 4,
   "metadata": {},
   "outputs": [],
   "source": [
    "import pandas as pd\n",
    "from biofuel_brazil_plants.utils import utils"
   ]
  },
  {
   "cell_type": "code",
   "execution_count": 5,
   "metadata": {},
   "outputs": [],
   "source": [
    "t = pd.DataFrame(\n",
    "    columns = [\n",
    "        'Unnamed: 0', 'Razão Social - Cidade - UF', 'CNPJ',\n",
    "        'Processo de Certificação', 'Biocombustível', 'Rota',\n",
    "        'Nota de Eficiência Energético-Ambiental (gCO2eq/MJ)',\n",
    "        'Volume elegível (%)', 'Fator para emissão \\nde CBIO (tCO2eq/L) *',\n",
    "        'Litros/CBIO', 'Data de Aprovação pela ANP', 'Validade',\n",
    "        'Firma Inspetora', 'Endereço Emissor Primário', 'Unnamed: 14'\n",
    "    ]\n",
    ")"
   ]
  },
  {
   "cell_type": "code",
   "execution_count": 10,
   "metadata": {},
   "outputs": [
    {
     "data": {
      "text/html": [
       "<pre style=\"white-space:pre;overflow-x:auto;line-height:normal;font-family:Menlo,'DejaVu Sans Mono',consolas,'Courier New',monospace\"></pre>\n"
      ],
      "text/plain": []
     },
     "metadata": {},
     "output_type": "display_data"
    },
    {
     "data": {
      "text/plain": [
       "\n",
       "\u001b[1;35mIndex\u001b[0m\u001b[1m(\u001b[0m\u001b[1m[\u001b[0m\u001b[32m'RAZAO_SOCIAL-CIDADE-UF'\u001b[0m, \u001b[32m'CNPJ'\u001b[0m, \u001b[32m'PROCESSO_DE_CERTIFICACAO'\u001b[0m,\n",
       "       \u001b[32m'BIOCOMBUSTIVEL'\u001b[0m, \u001b[32m'ROTA'\u001b[0m,\n",
       "       \u001b[32m'NOTA_DE_EFICIENCIA_ENERGETICO-AMBIENTAL_GCO2EQ/MJ'\u001b[0m,\n",
       "       \u001b[32m'VOLUME_ELEGIVEL_%'\u001b[0m, \u001b[32m'FATOR_PARA_EMISSAO_DE_CBIO_TCO2EQ/L'\u001b[0m,\n",
       "       \u001b[32m'LITROS/CBIO'\u001b[0m, \u001b[32m'DATA_DE_APROVACAO_PELA_ANP'\u001b[0m, \u001b[32m'VALIDADE'\u001b[0m,\n",
       "       \u001b[32m'FIRMA_INSPETORA'\u001b[0m, \u001b[32m'ENDERECO_EMISSOR_PRIMARIO'\u001b[0m\u001b[1m]\u001b[0m,\n",
       "      \u001b[33mdtype\u001b[0m=\u001b[32m'object'\u001b[0m\u001b[1m)\u001b[0m"
      ]
     },
     "execution_count": 10,
     "metadata": {},
     "output_type": "execute_result"
    }
   ],
   "source": [
    "utils.normalize_header(t).columns"
   ]
  }
 ],
 "metadata": {
  "kernelspec": {
   "display_name": "Kedro (ethanol_brazil_plants)",
   "language": "python",
   "name": "kedro_ethanol_brazil_plants"
  },
  "language_info": {
   "codemirror_mode": {
    "name": "ipython",
    "version": 3
   },
   "file_extension": ".py",
   "mimetype": "text/x-python",
   "name": "python",
   "nbconvert_exporter": "python",
   "pygments_lexer": "ipython3",
   "version": "3.9.17"
  },
  "orig_nbformat": 4
 },
 "nbformat": 4,
 "nbformat_minor": 2
}
