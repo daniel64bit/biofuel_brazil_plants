{
 "cells": [
  {
   "attachments": {},
   "cell_type": "markdown",
   "metadata": {},
   "source": [
    "# Libraries"
   ]
  },
  {
   "cell_type": "code",
   "execution_count": 9,
   "metadata": {},
   "outputs": [],
   "source": [
    "import pandas as pd\n",
    "import numpy as np\n",
    "\n",
    "from ethanol_brazil_plants.utils import utils\n",
    "\n",
    "from datetime import date\n",
    "from xlrd.xldate import xldate_as_datetime\n",
    "\n",
    "pd.options.display.max_columns = 100"
   ]
  },
  {
   "attachments": {},
   "cell_type": "markdown",
   "metadata": {},
   "source": [
    "# Functions"
   ]
  },
  {
   "cell_type": "code",
   "execution_count": 10,
   "metadata": {},
   "outputs": [],
   "source": [
    "def normalize_renovabio_database(\n",
    "    raw_df: pd.DataFrame,\n",
    "    object_cols: list[str],\n",
    "    int_cols: list[str],\n",
    "    float_cols: list[str],\n",
    "    date_cols: list[str],\n",
    ") -> pd.DataFrame:\n",
    "    \"\"\"\n",
    "    Normalize renovabio database columns\n",
    "    \"\"\"\n",
    "\n",
    "    normalized_df = utils.normalize_header(raw_df)\n",
    "    normalized_df = normalized_df.fillna(method='ffill')\n",
    "\n",
    "    normalized_df = utils.normalize_object_columns(normalized_df, object_cols)\n",
    "    normalized_df = normalized_df[normalized_df['CNPJ'] != '']\n",
    "\n",
    "    normalized_df = utils.normalize_int_columns(normalized_df, int_cols)\n",
    "    normalized_df = utils.normalize_float_columns(normalized_df, float_cols)\n",
    "\n",
    "    normalized_df = utils.normalize_date_columns(normalized_df, date_cols)\n",
    "\n",
    "    return normalized_df"
   ]
  },
  {
   "cell_type": "code",
   "execution_count": 11,
   "metadata": {},
   "outputs": [],
   "source": [
    "def split_razao_cidade_uf_column(normalized_df: pd.DataFrame) -> pd.DataFrame:\n",
    "    \"\"\"\n",
    "    Split RAZAO_SOCIAL-CIDADE-UF column into RAZAO_SOCIAL, CIDADE and UF columns.\n",
    "    \"\"\"\n",
    "\n",
    "    normalized_df['RAZAO_SOCIAL'] = normalized_df['RAZAO_SOCIAL-CIDADE-UF'].str.split('-').str[0]\n",
    "\n",
    "    normalized_df[['CIDADE', 'UF', 'UF_2']] = (\n",
    "        normalized_df['RAZAO_SOCIAL-CIDADE-UF']\n",
    "        .str.split('-')\n",
    "        .str[-2:]\n",
    "        .str.join(',')\n",
    "        .str.split(',', expand=True)\n",
    "    )\n",
    "\n",
    "    normalized_df['UF'] = np.where(\n",
    "        normalized_df['UF'].isnull(),\n",
    "        normalized_df['UF_2'],\n",
    "        normalized_df['UF']\n",
    "    )\n",
    "\n",
    "    normalized_df['CIDADE'] = np.where(\n",
    "        normalized_df['RAZAO_SOCIAL'] !=\n",
    "        normalized_df['CIDADE'],\n",
    "        normalized_df['CIDADE'],\n",
    "        None\n",
    "    )\n",
    "\n",
    "    normalized_df = normalized_df.drop(['RAZAO_SOCIAL-CIDADE-UF', 'UF_2'], axis=1)\n",
    "    return normalized_df"
   ]
  },
  {
   "cell_type": "code",
   "execution_count": 12,
   "metadata": {},
   "outputs": [],
   "source": [
    "def abbreviate_production_route(\n",
    "    normalized_df: pd.DataFrame,\n",
    "    ds_rota: dict,\n",
    "    cd_rota: dict\n",
    ") -> pd.DataFrame:\n",
    "    \"\"\"\n",
    "    Abbreviate routes names and define codes for each one of them.\n",
    "    Args:\n",
    "        normalized_df: Normalized dataframe.\n",
    "        ds_rota: Dictionary with routes names as keys and abbreviations as values.\n",
    "        cd_rota: Dictionary with routes abbreviations as keys and codes as values.\n",
    "    \"\"\"\n",
    "\n",
    "    normalized_df['DS_ROTA'] = normalized_df['ROTA'].replace(ds_rota)\n",
    "    normalized_df['CD_ROTA'] = normalized_df['DS_ROTA'].replace(cd_rota)\n",
    "    return normalized_df"
   ]
  },
  {
   "cell_type": "code",
   "execution_count": 13,
   "metadata": {},
   "outputs": [],
   "source": [
    "def generate_zip_code(\n",
    "    normalized_df: pd.DataFrame,\n",
    "    address_column: str = 'ENDERECO_EMISSOR_PRIMARIO'\n",
    ") -> pd.Series:\n",
    "    \"\"\"\n",
    "    Extract zip code (CEP) from address.\n",
    "    Args:\n",
    "        normalized_df: DataFrame with normalized data;\n",
    "        address_column: Column with address.\n",
    "    \"\"\"\n",
    "\n",
    "    return (\n",
    "        normalized_df[address_column]\n",
    "        .str.replace('.','')\n",
    "        .str.replace(r'-(\\s+)', '-', regex=True)\n",
    "        .str.findall(r'\\d{5}-\\d{3}|\\d{5}-\\d{2}')\n",
    "        .str[0]\n",
    "        .str.replace('-','')\n",
    "        .str.pad(8, side='right', fillchar='0')\n",
    "    )"
   ]
  },
  {
   "cell_type": "code",
   "execution_count": 14,
   "metadata": {},
   "outputs": [],
   "source": [
    "def generate_refined_address(\n",
    "    normalized_df: pd.DataFrame,\n",
    "    address_column: str = \"ENDERECO_EMISSOR_PRIMARIO\"\n",
    ") -> pd.Series:\n",
    "    \"\"\"\n",
    "    Generate a refined address column from address column.\n",
    "    Args:\n",
    "        normalized_df: Normalized DataFrame;\n",
    "        address_column: Address column name.\n",
    "    \"\"\"\n",
    "    return (\n",
    "        normalized_rbp_validos['ENDERECO_EMISSOR_PRIMARIO']\n",
    "        .str.replace(r'S/N[\\w\\W]| NO ', '', regex= True)\n",
    "        .str.replace(r'CEP[\\W]', '', regex=True)\n",
    "        .str.replace('.', '')\n",
    "        .str.replace(', ,', ',')\n",
    "        .str.replace(r'\\s+', ' ', regex= True)\n",
    "    )"
   ]
  },
  {
   "cell_type": "code",
   "execution_count": 15,
   "metadata": {},
   "outputs": [],
   "source": [
    "def extract_city_and_state(\n",
    "    normalized_df: pd.DataFrame,\n",
    "    refined_address_col: str = 'DS_END',\n",
    ") -> pd.DataFrame:\n",
    "    \"\"\"\n",
    "    Extracts city (CIDADE) and state (UF) from a normalized address column.\n",
    "\n",
    "    Args:\n",
    "        normalized_df: DataFrame with a refined address column.\n",
    "        refined_address_col: Name of refined address column.\n",
    "    \"\"\"\n",
    "\n",
    "    normalized_df[['re_CIDADE', 're_UF']] = (\n",
    "        normalized_df['DS_END']\n",
    "        .str.extract(r'([A-Z\\s]+)(?: - |/| / )([A-Z]{2})\\b')\n",
    "    )\n",
    "\n",
    "    for col in ['CIDADE', 'UF']:\n",
    "        normalized_df[col] = (\n",
    "            normalized_df[col]\n",
    "            .fillna(normalized_df[f're_{col}'])\n",
    "        )\n",
    "        normalized_df = normalized_df.drop(f're_{col}', axis=1)\n",
    "    \n",
    "    return normalized_df"
   ]
  },
  {
   "cell_type": "code",
   "execution_count": 16,
   "metadata": {},
   "outputs": [],
   "source": [
    "def split_address_column(\n",
    "    normalized_df: pd.DataFrame,\n",
    "    refined_address_column: str = \"DS_END\",\n",
    ") -> pd.DataFrame:\n",
    "    \"\"\"\n",
    "    Split address column into main address and number columns.\n",
    "    Args:\n",
    "        normalized_df: Normalized dataframe.\n",
    "        refined_address_column: Column name of refined address column.\n",
    "    \"\"\"\n",
    "    \n",
    "    # Pattern 1 - Highway and Roadway\n",
    "    normalized_df['p1_DS_END'] = (\n",
    "        normalized_df['DS_END']\n",
    "        .str.extract(r'(^RO[\\w\\s]+|[\\s\\W][A-Z]{2}(?<!KM|LT|CP)[\\s\\W]\\d{1,3}\\s|^EST[\\w\\s]+|ESTRADA[\\w\\s]+)')\n",
    "    )\n",
    "\n",
    "    normalized_df['p1_NO_END'] = (\n",
    "        normalized_df['DS_END']\n",
    "        .str.extract(r'(KM[\\s\\W]+\\d+)')\n",
    "    )\n",
    "\n",
    "    # Pattern 2 - Farm\n",
    "    normalized_df[['p2_DS_END']] = (\n",
    "        normalized_df['DS_END']\n",
    "        .str.extract(r'(^FAZ[\\w|\\s]+)')\n",
    "    )\n",
    "\n",
    "    normalized_df[['p2_NO_END']] = 'SN'\n",
    "\n",
    "    # Pattern 3 - Street\n",
    "    normalized_df[['p3_DS_END', 'p3_NO_END']] = (\n",
    "        normalized_df['DS_END']\n",
    "        .str.extract(r'(R[\\s][A-Z\\s]+|RUA[\\w\\s]+)(?:, |[\\W]|,)([\\d]+)')\n",
    "    )\n",
    "\n",
    "    # Pattern 4 - Avenue\n",
    "    normalized_df['p4_DS_END'] = (\n",
    "        normalized_df['DS_END']\n",
    "        .str.extract(r'(^AV[\\w\\s]+|^AV[\\s\\w]+)')\n",
    "    )\n",
    "\n",
    "    normalized_df['p4_NO_END'] = (\n",
    "        normalized_df['DS_END']\n",
    "        .str.extract(r'(?:^AV[\\w\\s]+|^AV[\\s\\w]+)(?:, |[\\W]|,)([\\d]+)')\n",
    "    )\n",
    "    # Pattern 5 - Others\n",
    "    normalized_df['p5_DS_END'] = (\n",
    "        normalized_df['DS_END']\n",
    "        .str.split(',')\n",
    "        .str[0]\n",
    "    )\n",
    "\n",
    "    normalized_df['p5_NO_END'] = (\n",
    "        normalized_df['DS_END']\n",
    "        .str.split(',')\n",
    "        .str[1]\n",
    "    )\n",
    "\n",
    "    # Addresses\n",
    "    address_cols = ['DS_END', 'NO_END']\n",
    "    for col in address_cols:\n",
    "        normalized_df[f'{col}'] = (\n",
    "            normalized_df[f'p1_{col}']\n",
    "            .fillna(normalized_df[f'p2_{col}'])\n",
    "            .fillna(normalized_df[f'p3_{col}'])\n",
    "            .fillna(normalized_df[f'p4_{col}'])\n",
    "            .fillna(normalized_df[f'p5_{col}'])\n",
    "        )\n",
    "        normalized_df = normalized_df.drop(\n",
    "            [f'p1_{col}', f'p2_{col}', f'p3_{col}',\n",
    "            f'p4_{col}', f'p5_{col}'], axis=1)\n",
    "\n",
    "    return normalized_df"
   ]
  },
  {
   "cell_type": "code",
   "execution_count": 17,
   "metadata": {},
   "outputs": [],
   "source": [
    "def rename_and_reorder_column(\n",
    "    df: pd.DataFrame,\n",
    "    dict_rename_cols: dict,\n",
    "    ordered_cols: list,\n",
    ") -> pd.DataFrame:\n",
    "    \"\"\"\n",
    "    Rename and reorder columns of DataFrame.\n",
    "    Args:\n",
    "        df: DataFrame to be renamed and reordered.\n",
    "        dict_rename_cols: Dictionary with old and new column names.\n",
    "        ordered_cols: List with ordered columns.\n",
    "    \"\"\"\n",
    "\n",
    "    df = df.rename(dict_rename_cols, axis=1)\n",
    "    df = df[ordered_cols].copy()\n",
    "    return df"
   ]
  },
  {
   "attachments": {},
   "cell_type": "markdown",
   "metadata": {},
   "source": [
    "# Data"
   ]
  },
  {
   "cell_type": "code",
   "execution_count": 18,
   "metadata": {},
   "outputs": [
    {
     "data": {
      "text/html": [
       "<pre style=\"white-space:pre;overflow-x:auto;line-height:normal;font-family:Menlo,'DejaVu Sans Mono',consolas,'Courier New',monospace\"><span style=\"color: #7fbfbf; text-decoration-color: #7fbfbf\">[08/08/23 16:00:39] </span><span style=\"color: #000080; text-decoration-color: #000080\">INFO    </span> Loading data from <span style=\"color: #008000; text-decoration-color: #008000\">'raw_renovabio_plants_validos'</span> <span style=\"font-weight: bold\">(</span>ExcelDataSet<span style=\"font-weight: bold\">)</span><span style=\"color: #808000; text-decoration-color: #808000\">...</span> <a href=\"file://c:\\Users\\daniel.silva\\AppData\\Local\\miniconda3\\envs\\kedro-std\\lib\\site-packages\\kedro\\io\\data_catalog.py\" target=\"_blank\"><span style=\"color: #7f7f7f; text-decoration-color: #7f7f7f\">data_catalog.py</span></a><span style=\"color: #7f7f7f; text-decoration-color: #7f7f7f\">:</span><a href=\"file://c:\\Users\\daniel.silva\\AppData\\Local\\miniconda3\\envs\\kedro-std\\lib\\site-packages\\kedro\\io\\data_catalog.py#475\" target=\"_blank\"><span style=\"color: #7f7f7f; text-decoration-color: #7f7f7f\">475</span></a>\n",
       "</pre>\n"
      ],
      "text/plain": [
       "\u001b[2;36m[08/08/23 16:00:39]\u001b[0m\u001b[2;36m \u001b[0m\u001b[34mINFO    \u001b[0m Loading data from \u001b[32m'raw_renovabio_plants_validos'\u001b[0m \u001b[1m(\u001b[0mExcelDataSet\u001b[1m)\u001b[0m\u001b[33m...\u001b[0m \u001b]8;id=191355;file://c:\\Users\\daniel.silva\\AppData\\Local\\miniconda3\\envs\\kedro-std\\lib\\site-packages\\kedro\\io\\data_catalog.py\u001b\\\u001b[2mdata_catalog.py\u001b[0m\u001b]8;;\u001b\\\u001b[2m:\u001b[0m\u001b]8;id=774493;file://c:\\Users\\daniel.silva\\AppData\\Local\\miniconda3\\envs\\kedro-std\\lib\\site-packages\\kedro\\io\\data_catalog.py#475\u001b\\\u001b[2m475\u001b[0m\u001b]8;;\u001b\\\n"
      ]
     },
     "metadata": {},
     "output_type": "display_data"
    },
    {
     "data": {
      "text/html": [
       "<pre style=\"white-space:pre;overflow-x:auto;line-height:normal;font-family:Menlo,'DejaVu Sans Mono',consolas,'Courier New',monospace\"><span style=\"color: #7fbfbf; text-decoration-color: #7fbfbf\">                    </span><span style=\"color: #000080; text-decoration-color: #000080\">INFO    </span> Loading data from <span style=\"color: #008000; text-decoration-color: #008000\">'raw_renovabio_plants_canc_susp'</span>                 <a href=\"file://c:\\Users\\daniel.silva\\AppData\\Local\\miniconda3\\envs\\kedro-std\\lib\\site-packages\\kedro\\io\\data_catalog.py\" target=\"_blank\"><span style=\"color: #7f7f7f; text-decoration-color: #7f7f7f\">data_catalog.py</span></a><span style=\"color: #7f7f7f; text-decoration-color: #7f7f7f\">:</span><a href=\"file://c:\\Users\\daniel.silva\\AppData\\Local\\miniconda3\\envs\\kedro-std\\lib\\site-packages\\kedro\\io\\data_catalog.py#475\" target=\"_blank\"><span style=\"color: #7f7f7f; text-decoration-color: #7f7f7f\">475</span></a>\n",
       "<span style=\"color: #7fbfbf; text-decoration-color: #7fbfbf\">                    </span>         <span style=\"font-weight: bold\">(</span>ExcelDataSet<span style=\"font-weight: bold\">)</span><span style=\"color: #808000; text-decoration-color: #808000\">...</span>                                                  <span style=\"color: #7f7f7f; text-decoration-color: #7f7f7f\">                   </span>\n",
       "</pre>\n"
      ],
      "text/plain": [
       "\u001b[2;36m                   \u001b[0m\u001b[2;36m \u001b[0m\u001b[34mINFO    \u001b[0m Loading data from \u001b[32m'raw_renovabio_plants_canc_susp'\u001b[0m                 \u001b]8;id=715847;file://c:\\Users\\daniel.silva\\AppData\\Local\\miniconda3\\envs\\kedro-std\\lib\\site-packages\\kedro\\io\\data_catalog.py\u001b\\\u001b[2mdata_catalog.py\u001b[0m\u001b]8;;\u001b\\\u001b[2m:\u001b[0m\u001b]8;id=996744;file://c:\\Users\\daniel.silva\\AppData\\Local\\miniconda3\\envs\\kedro-std\\lib\\site-packages\\kedro\\io\\data_catalog.py#475\u001b\\\u001b[2m475\u001b[0m\u001b]8;;\u001b\\\n",
       "\u001b[2;36m                    \u001b[0m         \u001b[1m(\u001b[0mExcelDataSet\u001b[1m)\u001b[0m\u001b[33m...\u001b[0m                                                  \u001b[2m                   \u001b[0m\n"
      ]
     },
     "metadata": {},
     "output_type": "display_data"
    },
    {
     "data": {
      "text/html": [
       "<pre style=\"white-space:pre;overflow-x:auto;line-height:normal;font-family:Menlo,'DejaVu Sans Mono',consolas,'Courier New',monospace\"><span style=\"color: #7fbfbf; text-decoration-color: #7fbfbf\">                    </span><span style=\"color: #000080; text-decoration-color: #000080\">INFO    </span> Loading data from <span style=\"color: #008000; text-decoration-color: #008000\">'raw_renovabio_plants_anulados'</span>                  <a href=\"file://c:\\Users\\daniel.silva\\AppData\\Local\\miniconda3\\envs\\kedro-std\\lib\\site-packages\\kedro\\io\\data_catalog.py\" target=\"_blank\"><span style=\"color: #7f7f7f; text-decoration-color: #7f7f7f\">data_catalog.py</span></a><span style=\"color: #7f7f7f; text-decoration-color: #7f7f7f\">:</span><a href=\"file://c:\\Users\\daniel.silva\\AppData\\Local\\miniconda3\\envs\\kedro-std\\lib\\site-packages\\kedro\\io\\data_catalog.py#475\" target=\"_blank\"><span style=\"color: #7f7f7f; text-decoration-color: #7f7f7f\">475</span></a>\n",
       "<span style=\"color: #7fbfbf; text-decoration-color: #7fbfbf\">                    </span>         <span style=\"font-weight: bold\">(</span>ExcelDataSet<span style=\"font-weight: bold\">)</span><span style=\"color: #808000; text-decoration-color: #808000\">...</span>                                                  <span style=\"color: #7f7f7f; text-decoration-color: #7f7f7f\">                   </span>\n",
       "</pre>\n"
      ],
      "text/plain": [
       "\u001b[2;36m                   \u001b[0m\u001b[2;36m \u001b[0m\u001b[34mINFO    \u001b[0m Loading data from \u001b[32m'raw_renovabio_plants_anulados'\u001b[0m                  \u001b]8;id=124748;file://c:\\Users\\daniel.silva\\AppData\\Local\\miniconda3\\envs\\kedro-std\\lib\\site-packages\\kedro\\io\\data_catalog.py\u001b\\\u001b[2mdata_catalog.py\u001b[0m\u001b]8;;\u001b\\\u001b[2m:\u001b[0m\u001b]8;id=285242;file://c:\\Users\\daniel.silva\\AppData\\Local\\miniconda3\\envs\\kedro-std\\lib\\site-packages\\kedro\\io\\data_catalog.py#475\u001b\\\u001b[2m475\u001b[0m\u001b]8;;\u001b\\\n",
       "\u001b[2;36m                    \u001b[0m         \u001b[1m(\u001b[0mExcelDataSet\u001b[1m)\u001b[0m\u001b[33m...\u001b[0m                                                  \u001b[2m                   \u001b[0m\n"
      ]
     },
     "metadata": {},
     "output_type": "display_data"
    }
   ],
   "source": [
    "raw_rbp_validos = catalog.load(\"raw_renovabio_plants_validos\")\n",
    "raw_rbp_canc_sup = catalog.load(\"raw_renovabio_plants_canc_susp\")\n",
    "raw_rbp_anulados = catalog.load(\"raw_renovabio_plants_anulados\")"
   ]
  },
  {
   "attachments": {},
   "cell_type": "markdown",
   "metadata": {},
   "source": [
    "# Normalize"
   ]
  },
  {
   "cell_type": "code",
   "execution_count": 19,
   "metadata": {},
   "outputs": [
    {
     "data": {
      "text/html": [
       "<pre style=\"white-space:pre;overflow-x:auto;line-height:normal;font-family:Menlo,'DejaVu Sans Mono',consolas,'Courier New',monospace\"><span style=\"color: #7fbfbf; text-decoration-color: #7fbfbf\">                    </span><span style=\"color: #000080; text-decoration-color: #000080\">INFO    </span> Loading data from <span style=\"color: #008000; text-decoration-color: #008000\">'params:object_cols'</span> <span style=\"font-weight: bold\">(</span>MemoryDataset<span style=\"font-weight: bold\">)</span><span style=\"color: #808000; text-decoration-color: #808000\">...</span>          <a href=\"file://c:\\Users\\daniel.silva\\AppData\\Local\\miniconda3\\envs\\kedro-std\\lib\\site-packages\\kedro\\io\\data_catalog.py\" target=\"_blank\"><span style=\"color: #7f7f7f; text-decoration-color: #7f7f7f\">data_catalog.py</span></a><span style=\"color: #7f7f7f; text-decoration-color: #7f7f7f\">:</span><a href=\"file://c:\\Users\\daniel.silva\\AppData\\Local\\miniconda3\\envs\\kedro-std\\lib\\site-packages\\kedro\\io\\data_catalog.py#475\" target=\"_blank\"><span style=\"color: #7f7f7f; text-decoration-color: #7f7f7f\">475</span></a>\n",
       "</pre>\n"
      ],
      "text/plain": [
       "\u001b[2;36m                   \u001b[0m\u001b[2;36m \u001b[0m\u001b[34mINFO    \u001b[0m Loading data from \u001b[32m'params:object_cols'\u001b[0m \u001b[1m(\u001b[0mMemoryDataset\u001b[1m)\u001b[0m\u001b[33m...\u001b[0m          \u001b]8;id=861391;file://c:\\Users\\daniel.silva\\AppData\\Local\\miniconda3\\envs\\kedro-std\\lib\\site-packages\\kedro\\io\\data_catalog.py\u001b\\\u001b[2mdata_catalog.py\u001b[0m\u001b]8;;\u001b\\\u001b[2m:\u001b[0m\u001b]8;id=450859;file://c:\\Users\\daniel.silva\\AppData\\Local\\miniconda3\\envs\\kedro-std\\lib\\site-packages\\kedro\\io\\data_catalog.py#475\u001b\\\u001b[2m475\u001b[0m\u001b]8;;\u001b\\\n"
      ]
     },
     "metadata": {},
     "output_type": "display_data"
    },
    {
     "data": {
      "text/html": [
       "<pre style=\"white-space:pre;overflow-x:auto;line-height:normal;font-family:Menlo,'DejaVu Sans Mono',consolas,'Courier New',monospace\"><span style=\"color: #7fbfbf; text-decoration-color: #7fbfbf\">                    </span><span style=\"color: #000080; text-decoration-color: #000080\">INFO    </span> Loading data from <span style=\"color: #008000; text-decoration-color: #008000\">'params:int_cols'</span> <span style=\"font-weight: bold\">(</span>MemoryDataset<span style=\"font-weight: bold\">)</span><span style=\"color: #808000; text-decoration-color: #808000\">...</span>             <a href=\"file://c:\\Users\\daniel.silva\\AppData\\Local\\miniconda3\\envs\\kedro-std\\lib\\site-packages\\kedro\\io\\data_catalog.py\" target=\"_blank\"><span style=\"color: #7f7f7f; text-decoration-color: #7f7f7f\">data_catalog.py</span></a><span style=\"color: #7f7f7f; text-decoration-color: #7f7f7f\">:</span><a href=\"file://c:\\Users\\daniel.silva\\AppData\\Local\\miniconda3\\envs\\kedro-std\\lib\\site-packages\\kedro\\io\\data_catalog.py#475\" target=\"_blank\"><span style=\"color: #7f7f7f; text-decoration-color: #7f7f7f\">475</span></a>\n",
       "</pre>\n"
      ],
      "text/plain": [
       "\u001b[2;36m                   \u001b[0m\u001b[2;36m \u001b[0m\u001b[34mINFO    \u001b[0m Loading data from \u001b[32m'params:int_cols'\u001b[0m \u001b[1m(\u001b[0mMemoryDataset\u001b[1m)\u001b[0m\u001b[33m...\u001b[0m             \u001b]8;id=368340;file://c:\\Users\\daniel.silva\\AppData\\Local\\miniconda3\\envs\\kedro-std\\lib\\site-packages\\kedro\\io\\data_catalog.py\u001b\\\u001b[2mdata_catalog.py\u001b[0m\u001b]8;;\u001b\\\u001b[2m:\u001b[0m\u001b]8;id=584185;file://c:\\Users\\daniel.silva\\AppData\\Local\\miniconda3\\envs\\kedro-std\\lib\\site-packages\\kedro\\io\\data_catalog.py#475\u001b\\\u001b[2m475\u001b[0m\u001b]8;;\u001b\\\n"
      ]
     },
     "metadata": {},
     "output_type": "display_data"
    },
    {
     "data": {
      "text/html": [
       "<pre style=\"white-space:pre;overflow-x:auto;line-height:normal;font-family:Menlo,'DejaVu Sans Mono',consolas,'Courier New',monospace\"><span style=\"color: #7fbfbf; text-decoration-color: #7fbfbf\">                    </span><span style=\"color: #000080; text-decoration-color: #000080\">INFO    </span> Loading data from <span style=\"color: #008000; text-decoration-color: #008000\">'params:float_cols'</span> <span style=\"font-weight: bold\">(</span>MemoryDataset<span style=\"font-weight: bold\">)</span><span style=\"color: #808000; text-decoration-color: #808000\">...</span>           <a href=\"file://c:\\Users\\daniel.silva\\AppData\\Local\\miniconda3\\envs\\kedro-std\\lib\\site-packages\\kedro\\io\\data_catalog.py\" target=\"_blank\"><span style=\"color: #7f7f7f; text-decoration-color: #7f7f7f\">data_catalog.py</span></a><span style=\"color: #7f7f7f; text-decoration-color: #7f7f7f\">:</span><a href=\"file://c:\\Users\\daniel.silva\\AppData\\Local\\miniconda3\\envs\\kedro-std\\lib\\site-packages\\kedro\\io\\data_catalog.py#475\" target=\"_blank\"><span style=\"color: #7f7f7f; text-decoration-color: #7f7f7f\">475</span></a>\n",
       "</pre>\n"
      ],
      "text/plain": [
       "\u001b[2;36m                   \u001b[0m\u001b[2;36m \u001b[0m\u001b[34mINFO    \u001b[0m Loading data from \u001b[32m'params:float_cols'\u001b[0m \u001b[1m(\u001b[0mMemoryDataset\u001b[1m)\u001b[0m\u001b[33m...\u001b[0m           \u001b]8;id=220839;file://c:\\Users\\daniel.silva\\AppData\\Local\\miniconda3\\envs\\kedro-std\\lib\\site-packages\\kedro\\io\\data_catalog.py\u001b\\\u001b[2mdata_catalog.py\u001b[0m\u001b]8;;\u001b\\\u001b[2m:\u001b[0m\u001b]8;id=503860;file://c:\\Users\\daniel.silva\\AppData\\Local\\miniconda3\\envs\\kedro-std\\lib\\site-packages\\kedro\\io\\data_catalog.py#475\u001b\\\u001b[2m475\u001b[0m\u001b]8;;\u001b\\\n"
      ]
     },
     "metadata": {},
     "output_type": "display_data"
    },
    {
     "data": {
      "text/html": [
       "<pre style=\"white-space:pre;overflow-x:auto;line-height:normal;font-family:Menlo,'DejaVu Sans Mono',consolas,'Courier New',monospace\"><span style=\"color: #7fbfbf; text-decoration-color: #7fbfbf\">                    </span><span style=\"color: #000080; text-decoration-color: #000080\">INFO    </span> Loading data from <span style=\"color: #008000; text-decoration-color: #008000\">'params:date_cols'</span> <span style=\"font-weight: bold\">(</span>MemoryDataset<span style=\"font-weight: bold\">)</span><span style=\"color: #808000; text-decoration-color: #808000\">...</span>            <a href=\"file://c:\\Users\\daniel.silva\\AppData\\Local\\miniconda3\\envs\\kedro-std\\lib\\site-packages\\kedro\\io\\data_catalog.py\" target=\"_blank\"><span style=\"color: #7f7f7f; text-decoration-color: #7f7f7f\">data_catalog.py</span></a><span style=\"color: #7f7f7f; text-decoration-color: #7f7f7f\">:</span><a href=\"file://c:\\Users\\daniel.silva\\AppData\\Local\\miniconda3\\envs\\kedro-std\\lib\\site-packages\\kedro\\io\\data_catalog.py#475\" target=\"_blank\"><span style=\"color: #7f7f7f; text-decoration-color: #7f7f7f\">475</span></a>\n",
       "</pre>\n"
      ],
      "text/plain": [
       "\u001b[2;36m                   \u001b[0m\u001b[2;36m \u001b[0m\u001b[34mINFO    \u001b[0m Loading data from \u001b[32m'params:date_cols'\u001b[0m \u001b[1m(\u001b[0mMemoryDataset\u001b[1m)\u001b[0m\u001b[33m...\u001b[0m            \u001b]8;id=75892;file://c:\\Users\\daniel.silva\\AppData\\Local\\miniconda3\\envs\\kedro-std\\lib\\site-packages\\kedro\\io\\data_catalog.py\u001b\\\u001b[2mdata_catalog.py\u001b[0m\u001b]8;;\u001b\\\u001b[2m:\u001b[0m\u001b]8;id=713265;file://c:\\Users\\daniel.silva\\AppData\\Local\\miniconda3\\envs\\kedro-std\\lib\\site-packages\\kedro\\io\\data_catalog.py#475\u001b\\\u001b[2m475\u001b[0m\u001b]8;;\u001b\\\n"
      ]
     },
     "metadata": {},
     "output_type": "display_data"
    }
   ],
   "source": [
    "normalized_rbp_validos = normalize_renovabio_database(\n",
    "    raw_rbp_validos,\n",
    "    catalog.load('params:object_cols'),\n",
    "    catalog.load('params:int_cols'),\n",
    "    catalog.load('params:float_cols'),\n",
    "    catalog.load('params:date_cols'),\n",
    ")"
   ]
  },
  {
   "attachments": {},
   "cell_type": "markdown",
   "metadata": {},
   "source": [
    "# Business name, City and State"
   ]
  },
  {
   "cell_type": "code",
   "execution_count": 20,
   "metadata": {},
   "outputs": [],
   "source": [
    "normalized_rbp_validos = split_razao_cidade_uf_column(normalized_rbp_validos)"
   ]
  },
  {
   "attachments": {},
   "cell_type": "markdown",
   "metadata": {},
   "source": [
    "# Route"
   ]
  },
  {
   "cell_type": "code",
   "execution_count": 21,
   "metadata": {},
   "outputs": [
    {
     "data": {
      "text/html": [
       "<pre style=\"white-space:pre;overflow-x:auto;line-height:normal;font-family:Menlo,'DejaVu Sans Mono',consolas,'Courier New',monospace\"><span style=\"color: #7fbfbf; text-decoration-color: #7fbfbf\">                    </span><span style=\"color: #000080; text-decoration-color: #000080\">INFO    </span> Loading data from <span style=\"color: #008000; text-decoration-color: #008000\">'params:ds_rota'</span> <span style=\"font-weight: bold\">(</span>MemoryDataset<span style=\"font-weight: bold\">)</span><span style=\"color: #808000; text-decoration-color: #808000\">...</span>              <a href=\"file://c:\\Users\\daniel.silva\\AppData\\Local\\miniconda3\\envs\\kedro-std\\lib\\site-packages\\kedro\\io\\data_catalog.py\" target=\"_blank\"><span style=\"color: #7f7f7f; text-decoration-color: #7f7f7f\">data_catalog.py</span></a><span style=\"color: #7f7f7f; text-decoration-color: #7f7f7f\">:</span><a href=\"file://c:\\Users\\daniel.silva\\AppData\\Local\\miniconda3\\envs\\kedro-std\\lib\\site-packages\\kedro\\io\\data_catalog.py#475\" target=\"_blank\"><span style=\"color: #7f7f7f; text-decoration-color: #7f7f7f\">475</span></a>\n",
       "</pre>\n"
      ],
      "text/plain": [
       "\u001b[2;36m                   \u001b[0m\u001b[2;36m \u001b[0m\u001b[34mINFO    \u001b[0m Loading data from \u001b[32m'params:ds_rota'\u001b[0m \u001b[1m(\u001b[0mMemoryDataset\u001b[1m)\u001b[0m\u001b[33m...\u001b[0m              \u001b]8;id=996295;file://c:\\Users\\daniel.silva\\AppData\\Local\\miniconda3\\envs\\kedro-std\\lib\\site-packages\\kedro\\io\\data_catalog.py\u001b\\\u001b[2mdata_catalog.py\u001b[0m\u001b]8;;\u001b\\\u001b[2m:\u001b[0m\u001b]8;id=129158;file://c:\\Users\\daniel.silva\\AppData\\Local\\miniconda3\\envs\\kedro-std\\lib\\site-packages\\kedro\\io\\data_catalog.py#475\u001b\\\u001b[2m475\u001b[0m\u001b]8;;\u001b\\\n"
      ]
     },
     "metadata": {},
     "output_type": "display_data"
    },
    {
     "data": {
      "text/html": [
       "<pre style=\"white-space:pre;overflow-x:auto;line-height:normal;font-family:Menlo,'DejaVu Sans Mono',consolas,'Courier New',monospace\"><span style=\"color: #7fbfbf; text-decoration-color: #7fbfbf\">                    </span><span style=\"color: #000080; text-decoration-color: #000080\">INFO    </span> Loading data from <span style=\"color: #008000; text-decoration-color: #008000\">'params:cd_rota'</span> <span style=\"font-weight: bold\">(</span>MemoryDataset<span style=\"font-weight: bold\">)</span><span style=\"color: #808000; text-decoration-color: #808000\">...</span>              <a href=\"file://c:\\Users\\daniel.silva\\AppData\\Local\\miniconda3\\envs\\kedro-std\\lib\\site-packages\\kedro\\io\\data_catalog.py\" target=\"_blank\"><span style=\"color: #7f7f7f; text-decoration-color: #7f7f7f\">data_catalog.py</span></a><span style=\"color: #7f7f7f; text-decoration-color: #7f7f7f\">:</span><a href=\"file://c:\\Users\\daniel.silva\\AppData\\Local\\miniconda3\\envs\\kedro-std\\lib\\site-packages\\kedro\\io\\data_catalog.py#475\" target=\"_blank\"><span style=\"color: #7f7f7f; text-decoration-color: #7f7f7f\">475</span></a>\n",
       "</pre>\n"
      ],
      "text/plain": [
       "\u001b[2;36m                   \u001b[0m\u001b[2;36m \u001b[0m\u001b[34mINFO    \u001b[0m Loading data from \u001b[32m'params:cd_rota'\u001b[0m \u001b[1m(\u001b[0mMemoryDataset\u001b[1m)\u001b[0m\u001b[33m...\u001b[0m              \u001b]8;id=200960;file://c:\\Users\\daniel.silva\\AppData\\Local\\miniconda3\\envs\\kedro-std\\lib\\site-packages\\kedro\\io\\data_catalog.py\u001b\\\u001b[2mdata_catalog.py\u001b[0m\u001b]8;;\u001b\\\u001b[2m:\u001b[0m\u001b]8;id=807720;file://c:\\Users\\daniel.silva\\AppData\\Local\\miniconda3\\envs\\kedro-std\\lib\\site-packages\\kedro\\io\\data_catalog.py#475\u001b\\\u001b[2m475\u001b[0m\u001b]8;;\u001b\\\n"
      ]
     },
     "metadata": {},
     "output_type": "display_data"
    }
   ],
   "source": [
    "normalized_rbp_validos = abbreviate_production_route(\n",
    "    normalized_rbp_validos,\n",
    "    catalog.load('params:ds_rota'),\n",
    "    catalog.load('params:cd_rota')\n",
    ")"
   ]
  },
  {
   "attachments": {},
   "cell_type": "markdown",
   "metadata": {},
   "source": [
    "# Location"
   ]
  },
  {
   "attachments": {},
   "cell_type": "markdown",
   "metadata": {},
   "source": [
    "## ZIP Code"
   ]
  },
  {
   "cell_type": "code",
   "execution_count": 22,
   "metadata": {},
   "outputs": [
    {
     "data": {
      "text/html": [
       "<pre style=\"white-space:pre;overflow-x:auto;line-height:normal;font-family:Menlo,'DejaVu Sans Mono',consolas,'Courier New',monospace\"><span style=\"color: #7fbfbf; text-decoration-color: #7fbfbf\">                    </span><span style=\"color: #800000; text-decoration-color: #800000\">WARNING </span> C:\\Users\\daniel.silva\\AppData\\Local\\Temp\\ipykernel_18804\\<span style=\"color: #008080; text-decoration-color: #008080; font-weight: bold\">896430648.</span>py: <a href=\"file://c:\\Users\\daniel.silva\\AppData\\Local\\miniconda3\\envs\\kedro-std\\lib\\warnings.py\" target=\"_blank\"><span style=\"color: #7f7f7f; text-decoration-color: #7f7f7f\">warnings.py</span></a><span style=\"color: #7f7f7f; text-decoration-color: #7f7f7f\">:</span><a href=\"file://c:\\Users\\daniel.silva\\AppData\\Local\\miniconda3\\envs\\kedro-std\\lib\\warnings.py#109\" target=\"_blank\"><span style=\"color: #7f7f7f; text-decoration-color: #7f7f7f\">109</span></a>\n",
       "<span style=\"color: #7fbfbf; text-decoration-color: #7fbfbf\">                    </span>         <span style=\"color: #008080; text-decoration-color: #008080; font-weight: bold\">13</span>: FutureWarning: The default value of regex will change from <span style=\"color: #00ff00; text-decoration-color: #00ff00; font-style: italic\">True</span> to <span style=\"color: #7f7f7f; text-decoration-color: #7f7f7f\">               </span>\n",
       "<span style=\"color: #7fbfbf; text-decoration-color: #7fbfbf\">                    </span>         <span style=\"color: #ff0000; text-decoration-color: #ff0000; font-style: italic\">False</span> in a future version. In addition, single character regular       <span style=\"color: #7f7f7f; text-decoration-color: #7f7f7f\">               </span>\n",
       "<span style=\"color: #7fbfbf; text-decoration-color: #7fbfbf\">                    </span>         expressions will *not* be treated as literal strings when <span style=\"color: #808000; text-decoration-color: #808000\">regex</span>=<span style=\"color: #00ff00; text-decoration-color: #00ff00; font-style: italic\">True</span>.  <span style=\"color: #7f7f7f; text-decoration-color: #7f7f7f\">               </span>\n",
       "<span style=\"color: #7fbfbf; text-decoration-color: #7fbfbf\">                    </span>           normalized_df<span style=\"font-weight: bold\">[</span>address_column<span style=\"font-weight: bold\">]</span>                                        <span style=\"color: #7f7f7f; text-decoration-color: #7f7f7f\">               </span>\n",
       "<span style=\"color: #7fbfbf; text-decoration-color: #7fbfbf\">                    </span>                                                                                <span style=\"color: #7f7f7f; text-decoration-color: #7f7f7f\">               </span>\n",
       "</pre>\n"
      ],
      "text/plain": [
       "\u001b[2;36m                   \u001b[0m\u001b[2;36m \u001b[0m\u001b[31mWARNING \u001b[0m C:\\Users\\daniel.silva\\AppData\\Local\\Temp\\ipykernel_18804\\\u001b[1;36m896430648.\u001b[0mpy: \u001b]8;id=868583;file://c:\\Users\\daniel.silva\\AppData\\Local\\miniconda3\\envs\\kedro-std\\lib\\warnings.py\u001b\\\u001b[2mwarnings.py\u001b[0m\u001b]8;;\u001b\\\u001b[2m:\u001b[0m\u001b]8;id=235057;file://c:\\Users\\daniel.silva\\AppData\\Local\\miniconda3\\envs\\kedro-std\\lib\\warnings.py#109\u001b\\\u001b[2m109\u001b[0m\u001b]8;;\u001b\\\n",
       "\u001b[2;36m                    \u001b[0m         \u001b[1;36m13\u001b[0m: FutureWarning: The default value of regex will change from \u001b[3;92mTrue\u001b[0m to \u001b[2m               \u001b[0m\n",
       "\u001b[2;36m                    \u001b[0m         \u001b[3;91mFalse\u001b[0m in a future version. In addition, single character regular       \u001b[2m               \u001b[0m\n",
       "\u001b[2;36m                    \u001b[0m         expressions will *not* be treated as literal strings when \u001b[33mregex\u001b[0m=\u001b[3;92mTrue\u001b[0m.  \u001b[2m               \u001b[0m\n",
       "\u001b[2;36m                    \u001b[0m           normalized_df\u001b[1m[\u001b[0maddress_column\u001b[1m]\u001b[0m                                        \u001b[2m               \u001b[0m\n",
       "\u001b[2;36m                    \u001b[0m                                                                                \u001b[2m               \u001b[0m\n"
      ]
     },
     "metadata": {},
     "output_type": "display_data"
    }
   ],
   "source": [
    "normalized_rbp_validos['CEP'] = generate_zip_code(normalized_rbp_validos)"
   ]
  },
  {
   "attachments": {},
   "cell_type": "markdown",
   "metadata": {},
   "source": [
    "## City and State"
   ]
  },
  {
   "cell_type": "code",
   "execution_count": 23,
   "metadata": {},
   "outputs": [
    {
     "data": {
      "text/html": [
       "<pre style=\"white-space:pre;overflow-x:auto;line-height:normal;font-family:Menlo,'DejaVu Sans Mono',consolas,'Courier New',monospace\"><span style=\"color: #7fbfbf; text-decoration-color: #7fbfbf\">[08/08/23 16:00:40] </span><span style=\"color: #800000; text-decoration-color: #800000\">WARNING </span> C:\\Users\\daniel.silva\\AppData\\Local\\Temp\\ipykernel_18804\\<span style=\"color: #008080; text-decoration-color: #008080; font-weight: bold\">1426024363.</span>py <a href=\"file://c:\\Users\\daniel.silva\\AppData\\Local\\miniconda3\\envs\\kedro-std\\lib\\warnings.py\" target=\"_blank\"><span style=\"color: #7f7f7f; text-decoration-color: #7f7f7f\">warnings.py</span></a><span style=\"color: #7f7f7f; text-decoration-color: #7f7f7f\">:</span><a href=\"file://c:\\Users\\daniel.silva\\AppData\\Local\\miniconda3\\envs\\kedro-std\\lib\\warnings.py#109\" target=\"_blank\"><span style=\"color: #7f7f7f; text-decoration-color: #7f7f7f\">109</span></a>\n",
       "<span style=\"color: #7fbfbf; text-decoration-color: #7fbfbf\">                    </span>         :<span style=\"color: #008080; text-decoration-color: #008080; font-weight: bold\">12</span>: FutureWarning: The default value of regex will change from <span style=\"color: #00ff00; text-decoration-color: #00ff00; font-style: italic\">True</span>   <span style=\"color: #7f7f7f; text-decoration-color: #7f7f7f\">               </span>\n",
       "<span style=\"color: #7fbfbf; text-decoration-color: #7fbfbf\">                    </span>         to <span style=\"color: #ff0000; text-decoration-color: #ff0000; font-style: italic\">False</span> in a future version. In addition, single character regular    <span style=\"color: #7f7f7f; text-decoration-color: #7f7f7f\">               </span>\n",
       "<span style=\"color: #7fbfbf; text-decoration-color: #7fbfbf\">                    </span>         expressions will *not* be treated as literal strings when <span style=\"color: #808000; text-decoration-color: #808000\">regex</span>=<span style=\"color: #00ff00; text-decoration-color: #00ff00; font-style: italic\">True</span>.  <span style=\"color: #7f7f7f; text-decoration-color: #7f7f7f\">               </span>\n",
       "<span style=\"color: #7fbfbf; text-decoration-color: #7fbfbf\">                    </span>           normalized_rbp_validos<span style=\"font-weight: bold\">[</span><span style=\"color: #008000; text-decoration-color: #008000\">'ENDERECO_EMISSOR_PRIMARIO'</span><span style=\"font-weight: bold\">]</span>                  <span style=\"color: #7f7f7f; text-decoration-color: #7f7f7f\">               </span>\n",
       "<span style=\"color: #7fbfbf; text-decoration-color: #7fbfbf\">                    </span>                                                                                <span style=\"color: #7f7f7f; text-decoration-color: #7f7f7f\">               </span>\n",
       "</pre>\n"
      ],
      "text/plain": [
       "\u001b[2;36m[08/08/23 16:00:40]\u001b[0m\u001b[2;36m \u001b[0m\u001b[31mWARNING \u001b[0m C:\\Users\\daniel.silva\\AppData\\Local\\Temp\\ipykernel_18804\\\u001b[1;36m1426024363.\u001b[0mpy \u001b]8;id=694454;file://c:\\Users\\daniel.silva\\AppData\\Local\\miniconda3\\envs\\kedro-std\\lib\\warnings.py\u001b\\\u001b[2mwarnings.py\u001b[0m\u001b]8;;\u001b\\\u001b[2m:\u001b[0m\u001b]8;id=812002;file://c:\\Users\\daniel.silva\\AppData\\Local\\miniconda3\\envs\\kedro-std\\lib\\warnings.py#109\u001b\\\u001b[2m109\u001b[0m\u001b]8;;\u001b\\\n",
       "\u001b[2;36m                    \u001b[0m         :\u001b[1;36m12\u001b[0m: FutureWarning: The default value of regex will change from \u001b[3;92mTrue\u001b[0m   \u001b[2m               \u001b[0m\n",
       "\u001b[2;36m                    \u001b[0m         to \u001b[3;91mFalse\u001b[0m in a future version. In addition, single character regular    \u001b[2m               \u001b[0m\n",
       "\u001b[2;36m                    \u001b[0m         expressions will *not* be treated as literal strings when \u001b[33mregex\u001b[0m=\u001b[3;92mTrue\u001b[0m.  \u001b[2m               \u001b[0m\n",
       "\u001b[2;36m                    \u001b[0m           normalized_rbp_validos\u001b[1m[\u001b[0m\u001b[32m'ENDERECO_EMISSOR_PRIMARIO'\u001b[0m\u001b[1m]\u001b[0m                  \u001b[2m               \u001b[0m\n",
       "\u001b[2;36m                    \u001b[0m                                                                                \u001b[2m               \u001b[0m\n"
      ]
     },
     "metadata": {},
     "output_type": "display_data"
    }
   ],
   "source": [
    "normalized_rbp_validos['DS_END'] = generate_refined_address(normalized_rbp_validos)\n",
    "normalized_rbp_validos = extract_city_and_state(normalized_rbp_validos)\n"
   ]
  },
  {
   "attachments": {},
   "cell_type": "markdown",
   "metadata": {},
   "source": [
    "## Address"
   ]
  },
  {
   "cell_type": "code",
   "execution_count": 24,
   "metadata": {},
   "outputs": [],
   "source": [
    "normalized_rbp_validos = split_address_column(normalized_rbp_validos)"
   ]
  },
  {
   "attachments": {},
   "cell_type": "markdown",
   "metadata": {},
   "source": [
    "# Renaming and ordering columns"
   ]
  },
  {
   "cell_type": "code",
   "execution_count": 28,
   "metadata": {},
   "outputs": [
    {
     "data": {
      "text/html": [
       "<pre style=\"white-space:pre;overflow-x:auto;line-height:normal;font-family:Menlo,'DejaVu Sans Mono',consolas,'Courier New',monospace\"><span style=\"color: #7fbfbf; text-decoration-color: #7fbfbf\">[08/08/23 16:00:57] </span><span style=\"color: #000080; text-decoration-color: #000080\">INFO    </span> Loading data from <span style=\"color: #008000; text-decoration-color: #008000\">'params:dict_rename_cols'</span> <span style=\"font-weight: bold\">(</span>MemoryDataset<span style=\"font-weight: bold\">)</span><span style=\"color: #808000; text-decoration-color: #808000\">...</span>     <a href=\"file://c:\\Users\\daniel.silva\\AppData\\Local\\miniconda3\\envs\\kedro-std\\lib\\site-packages\\kedro\\io\\data_catalog.py\" target=\"_blank\"><span style=\"color: #7f7f7f; text-decoration-color: #7f7f7f\">data_catalog.py</span></a><span style=\"color: #7f7f7f; text-decoration-color: #7f7f7f\">:</span><a href=\"file://c:\\Users\\daniel.silva\\AppData\\Local\\miniconda3\\envs\\kedro-std\\lib\\site-packages\\kedro\\io\\data_catalog.py#475\" target=\"_blank\"><span style=\"color: #7f7f7f; text-decoration-color: #7f7f7f\">475</span></a>\n",
       "</pre>\n"
      ],
      "text/plain": [
       "\u001b[2;36m[08/08/23 16:00:57]\u001b[0m\u001b[2;36m \u001b[0m\u001b[34mINFO    \u001b[0m Loading data from \u001b[32m'params:dict_rename_cols'\u001b[0m \u001b[1m(\u001b[0mMemoryDataset\u001b[1m)\u001b[0m\u001b[33m...\u001b[0m     \u001b]8;id=641237;file://c:\\Users\\daniel.silva\\AppData\\Local\\miniconda3\\envs\\kedro-std\\lib\\site-packages\\kedro\\io\\data_catalog.py\u001b\\\u001b[2mdata_catalog.py\u001b[0m\u001b]8;;\u001b\\\u001b[2m:\u001b[0m\u001b]8;id=480091;file://c:\\Users\\daniel.silva\\AppData\\Local\\miniconda3\\envs\\kedro-std\\lib\\site-packages\\kedro\\io\\data_catalog.py#475\u001b\\\u001b[2m475\u001b[0m\u001b]8;;\u001b\\\n"
      ]
     },
     "metadata": {},
     "output_type": "display_data"
    },
    {
     "data": {
      "text/html": [
       "<pre style=\"white-space:pre;overflow-x:auto;line-height:normal;font-family:Menlo,'DejaVu Sans Mono',consolas,'Courier New',monospace\"><span style=\"color: #7fbfbf; text-decoration-color: #7fbfbf\">                    </span><span style=\"color: #000080; text-decoration-color: #000080\">INFO    </span> Loading data from <span style=\"color: #008000; text-decoration-color: #008000\">'params:ordered_cols'</span> <span style=\"font-weight: bold\">(</span>MemoryDataset<span style=\"font-weight: bold\">)</span><span style=\"color: #808000; text-decoration-color: #808000\">...</span>         <a href=\"file://c:\\Users\\daniel.silva\\AppData\\Local\\miniconda3\\envs\\kedro-std\\lib\\site-packages\\kedro\\io\\data_catalog.py\" target=\"_blank\"><span style=\"color: #7f7f7f; text-decoration-color: #7f7f7f\">data_catalog.py</span></a><span style=\"color: #7f7f7f; text-decoration-color: #7f7f7f\">:</span><a href=\"file://c:\\Users\\daniel.silva\\AppData\\Local\\miniconda3\\envs\\kedro-std\\lib\\site-packages\\kedro\\io\\data_catalog.py#475\" target=\"_blank\"><span style=\"color: #7f7f7f; text-decoration-color: #7f7f7f\">475</span></a>\n",
       "</pre>\n"
      ],
      "text/plain": [
       "\u001b[2;36m                   \u001b[0m\u001b[2;36m \u001b[0m\u001b[34mINFO    \u001b[0m Loading data from \u001b[32m'params:ordered_cols'\u001b[0m \u001b[1m(\u001b[0mMemoryDataset\u001b[1m)\u001b[0m\u001b[33m...\u001b[0m         \u001b]8;id=438863;file://c:\\Users\\daniel.silva\\AppData\\Local\\miniconda3\\envs\\kedro-std\\lib\\site-packages\\kedro\\io\\data_catalog.py\u001b\\\u001b[2mdata_catalog.py\u001b[0m\u001b]8;;\u001b\\\u001b[2m:\u001b[0m\u001b]8;id=530651;file://c:\\Users\\daniel.silva\\AppData\\Local\\miniconda3\\envs\\kedro-std\\lib\\site-packages\\kedro\\io\\data_catalog.py#475\u001b\\\u001b[2m475\u001b[0m\u001b]8;;\u001b\\\n"
      ]
     },
     "metadata": {},
     "output_type": "display_data"
    }
   ],
   "source": [
    "normalized_rbp_validos = rename_and_reorder_column(\n",
    "    normalized_rbp_validos,\n",
    "    catalog.load('params:dict_rename_cols'),\n",
    "    catalog.load('params:ordered_cols')\n",
    ")"
   ]
  },
  {
   "cell_type": "code",
   "execution_count": 29,
   "metadata": {},
   "outputs": [],
   "source": [
    "def generate_refined_renovabio_database(\n",
    "    raw_renovabio_database: pd.DataFrame,\n",
    "    object_cols: list,\n",
    "    int_cols: list,\n",
    "    float_cols: list,\n",
    "    date_cols: list,\n",
    "    ds_rota: dict,\n",
    "    cd_rota: dict,\n",
    "    dict_rename_cols: dict,\n",
    "    ordered_cols: list,\n",
    ") -> pd.DataFrame:\n",
    "    \"\"\"\n",
    "    Generate a refined Renovabio database.\n",
    "    \"\"\"\n",
    "\n",
    "    # Normalize\n",
    "    normalized_database = normalize_renovabio_database(\n",
    "        raw_renovabio_database,\n",
    "        object_cols,\n",
    "        int_cols,\n",
    "        float_cols,\n",
    "        date_cols,\n",
    "    )\n",
    "\n",
    "    # Business name, City and State\n",
    "    normalized_database = split_razao_cidade_uf_column(normalized_database)\n",
    "\n",
    "    # Route\n",
    "    normalized_database = abbreviate_production_route(\n",
    "        normalized_database, ds_rota, cd_rota\n",
    "    )\n",
    "\n",
    "    # Zip code\n",
    "    normalized_database[\"CEP\"] = generate_zip_code(normalized_database)\n",
    "    # City and State\n",
    "    normalized_database[\"DS_END\"] = generate_refined_address(\n",
    "        normalized_database\n",
    "    )\n",
    "    normalized_database = extract_city_and_state(normalized_database)\n",
    "    # Address\n",
    "    normalized_database = split_address_column(normalized_database)\n",
    "\n",
    "    # Rename and reorder columns\n",
    "    normalized_database = rename_and_reorder_column(\n",
    "        normalized_database, dict_rename_cols, ordered_cols\n",
    "    )\n",
    "\n",
    "    return normalized_database"
   ]
  },
  {
   "cell_type": "code",
   "execution_count": 30,
   "metadata": {},
   "outputs": [
    {
     "data": {
      "text/html": [
       "<pre style=\"white-space:pre;overflow-x:auto;line-height:normal;font-family:Menlo,'DejaVu Sans Mono',consolas,'Courier New',monospace\"><span style=\"color: #7fbfbf; text-decoration-color: #7fbfbf\">[08/08/23 16:01:00] </span><span style=\"color: #000080; text-decoration-color: #000080\">INFO    </span> Loading data from <span style=\"color: #008000; text-decoration-color: #008000\">'params:object_cols'</span> <span style=\"font-weight: bold\">(</span>MemoryDataset<span style=\"font-weight: bold\">)</span><span style=\"color: #808000; text-decoration-color: #808000\">...</span>          <a href=\"file://c:\\Users\\daniel.silva\\AppData\\Local\\miniconda3\\envs\\kedro-std\\lib\\site-packages\\kedro\\io\\data_catalog.py\" target=\"_blank\"><span style=\"color: #7f7f7f; text-decoration-color: #7f7f7f\">data_catalog.py</span></a><span style=\"color: #7f7f7f; text-decoration-color: #7f7f7f\">:</span><a href=\"file://c:\\Users\\daniel.silva\\AppData\\Local\\miniconda3\\envs\\kedro-std\\lib\\site-packages\\kedro\\io\\data_catalog.py#475\" target=\"_blank\"><span style=\"color: #7f7f7f; text-decoration-color: #7f7f7f\">475</span></a>\n",
       "</pre>\n"
      ],
      "text/plain": [
       "\u001b[2;36m[08/08/23 16:01:00]\u001b[0m\u001b[2;36m \u001b[0m\u001b[34mINFO    \u001b[0m Loading data from \u001b[32m'params:object_cols'\u001b[0m \u001b[1m(\u001b[0mMemoryDataset\u001b[1m)\u001b[0m\u001b[33m...\u001b[0m          \u001b]8;id=4581;file://c:\\Users\\daniel.silva\\AppData\\Local\\miniconda3\\envs\\kedro-std\\lib\\site-packages\\kedro\\io\\data_catalog.py\u001b\\\u001b[2mdata_catalog.py\u001b[0m\u001b]8;;\u001b\\\u001b[2m:\u001b[0m\u001b]8;id=221447;file://c:\\Users\\daniel.silva\\AppData\\Local\\miniconda3\\envs\\kedro-std\\lib\\site-packages\\kedro\\io\\data_catalog.py#475\u001b\\\u001b[2m475\u001b[0m\u001b]8;;\u001b\\\n"
      ]
     },
     "metadata": {},
     "output_type": "display_data"
    },
    {
     "data": {
      "text/html": [
       "<pre style=\"white-space:pre;overflow-x:auto;line-height:normal;font-family:Menlo,'DejaVu Sans Mono',consolas,'Courier New',monospace\"><span style=\"color: #7fbfbf; text-decoration-color: #7fbfbf\">                    </span><span style=\"color: #000080; text-decoration-color: #000080\">INFO    </span> Loading data from <span style=\"color: #008000; text-decoration-color: #008000\">'params:int_cols'</span> <span style=\"font-weight: bold\">(</span>MemoryDataset<span style=\"font-weight: bold\">)</span><span style=\"color: #808000; text-decoration-color: #808000\">...</span>             <a href=\"file://c:\\Users\\daniel.silva\\AppData\\Local\\miniconda3\\envs\\kedro-std\\lib\\site-packages\\kedro\\io\\data_catalog.py\" target=\"_blank\"><span style=\"color: #7f7f7f; text-decoration-color: #7f7f7f\">data_catalog.py</span></a><span style=\"color: #7f7f7f; text-decoration-color: #7f7f7f\">:</span><a href=\"file://c:\\Users\\daniel.silva\\AppData\\Local\\miniconda3\\envs\\kedro-std\\lib\\site-packages\\kedro\\io\\data_catalog.py#475\" target=\"_blank\"><span style=\"color: #7f7f7f; text-decoration-color: #7f7f7f\">475</span></a>\n",
       "</pre>\n"
      ],
      "text/plain": [
       "\u001b[2;36m                   \u001b[0m\u001b[2;36m \u001b[0m\u001b[34mINFO    \u001b[0m Loading data from \u001b[32m'params:int_cols'\u001b[0m \u001b[1m(\u001b[0mMemoryDataset\u001b[1m)\u001b[0m\u001b[33m...\u001b[0m             \u001b]8;id=777465;file://c:\\Users\\daniel.silva\\AppData\\Local\\miniconda3\\envs\\kedro-std\\lib\\site-packages\\kedro\\io\\data_catalog.py\u001b\\\u001b[2mdata_catalog.py\u001b[0m\u001b]8;;\u001b\\\u001b[2m:\u001b[0m\u001b]8;id=157337;file://c:\\Users\\daniel.silva\\AppData\\Local\\miniconda3\\envs\\kedro-std\\lib\\site-packages\\kedro\\io\\data_catalog.py#475\u001b\\\u001b[2m475\u001b[0m\u001b]8;;\u001b\\\n"
      ]
     },
     "metadata": {},
     "output_type": "display_data"
    },
    {
     "data": {
      "text/html": [
       "<pre style=\"white-space:pre;overflow-x:auto;line-height:normal;font-family:Menlo,'DejaVu Sans Mono',consolas,'Courier New',monospace\"><span style=\"color: #7fbfbf; text-decoration-color: #7fbfbf\">                    </span><span style=\"color: #000080; text-decoration-color: #000080\">INFO    </span> Loading data from <span style=\"color: #008000; text-decoration-color: #008000\">'params:float_cols'</span> <span style=\"font-weight: bold\">(</span>MemoryDataset<span style=\"font-weight: bold\">)</span><span style=\"color: #808000; text-decoration-color: #808000\">...</span>           <a href=\"file://c:\\Users\\daniel.silva\\AppData\\Local\\miniconda3\\envs\\kedro-std\\lib\\site-packages\\kedro\\io\\data_catalog.py\" target=\"_blank\"><span style=\"color: #7f7f7f; text-decoration-color: #7f7f7f\">data_catalog.py</span></a><span style=\"color: #7f7f7f; text-decoration-color: #7f7f7f\">:</span><a href=\"file://c:\\Users\\daniel.silva\\AppData\\Local\\miniconda3\\envs\\kedro-std\\lib\\site-packages\\kedro\\io\\data_catalog.py#475\" target=\"_blank\"><span style=\"color: #7f7f7f; text-decoration-color: #7f7f7f\">475</span></a>\n",
       "</pre>\n"
      ],
      "text/plain": [
       "\u001b[2;36m                   \u001b[0m\u001b[2;36m \u001b[0m\u001b[34mINFO    \u001b[0m Loading data from \u001b[32m'params:float_cols'\u001b[0m \u001b[1m(\u001b[0mMemoryDataset\u001b[1m)\u001b[0m\u001b[33m...\u001b[0m           \u001b]8;id=781957;file://c:\\Users\\daniel.silva\\AppData\\Local\\miniconda3\\envs\\kedro-std\\lib\\site-packages\\kedro\\io\\data_catalog.py\u001b\\\u001b[2mdata_catalog.py\u001b[0m\u001b]8;;\u001b\\\u001b[2m:\u001b[0m\u001b]8;id=35859;file://c:\\Users\\daniel.silva\\AppData\\Local\\miniconda3\\envs\\kedro-std\\lib\\site-packages\\kedro\\io\\data_catalog.py#475\u001b\\\u001b[2m475\u001b[0m\u001b]8;;\u001b\\\n"
      ]
     },
     "metadata": {},
     "output_type": "display_data"
    },
    {
     "data": {
      "text/html": [
       "<pre style=\"white-space:pre;overflow-x:auto;line-height:normal;font-family:Menlo,'DejaVu Sans Mono',consolas,'Courier New',monospace\"><span style=\"color: #7fbfbf; text-decoration-color: #7fbfbf\">                    </span><span style=\"color: #000080; text-decoration-color: #000080\">INFO    </span> Loading data from <span style=\"color: #008000; text-decoration-color: #008000\">'params:date_cols'</span> <span style=\"font-weight: bold\">(</span>MemoryDataset<span style=\"font-weight: bold\">)</span><span style=\"color: #808000; text-decoration-color: #808000\">...</span>            <a href=\"file://c:\\Users\\daniel.silva\\AppData\\Local\\miniconda3\\envs\\kedro-std\\lib\\site-packages\\kedro\\io\\data_catalog.py\" target=\"_blank\"><span style=\"color: #7f7f7f; text-decoration-color: #7f7f7f\">data_catalog.py</span></a><span style=\"color: #7f7f7f; text-decoration-color: #7f7f7f\">:</span><a href=\"file://c:\\Users\\daniel.silva\\AppData\\Local\\miniconda3\\envs\\kedro-std\\lib\\site-packages\\kedro\\io\\data_catalog.py#475\" target=\"_blank\"><span style=\"color: #7f7f7f; text-decoration-color: #7f7f7f\">475</span></a>\n",
       "</pre>\n"
      ],
      "text/plain": [
       "\u001b[2;36m                   \u001b[0m\u001b[2;36m \u001b[0m\u001b[34mINFO    \u001b[0m Loading data from \u001b[32m'params:date_cols'\u001b[0m \u001b[1m(\u001b[0mMemoryDataset\u001b[1m)\u001b[0m\u001b[33m...\u001b[0m            \u001b]8;id=674722;file://c:\\Users\\daniel.silva\\AppData\\Local\\miniconda3\\envs\\kedro-std\\lib\\site-packages\\kedro\\io\\data_catalog.py\u001b\\\u001b[2mdata_catalog.py\u001b[0m\u001b]8;;\u001b\\\u001b[2m:\u001b[0m\u001b]8;id=74886;file://c:\\Users\\daniel.silva\\AppData\\Local\\miniconda3\\envs\\kedro-std\\lib\\site-packages\\kedro\\io\\data_catalog.py#475\u001b\\\u001b[2m475\u001b[0m\u001b]8;;\u001b\\\n"
      ]
     },
     "metadata": {},
     "output_type": "display_data"
    },
    {
     "data": {
      "text/html": [
       "<pre style=\"white-space:pre;overflow-x:auto;line-height:normal;font-family:Menlo,'DejaVu Sans Mono',consolas,'Courier New',monospace\"><span style=\"color: #7fbfbf; text-decoration-color: #7fbfbf\">                    </span><span style=\"color: #000080; text-decoration-color: #000080\">INFO    </span> Loading data from <span style=\"color: #008000; text-decoration-color: #008000\">'params:ds_rota'</span> <span style=\"font-weight: bold\">(</span>MemoryDataset<span style=\"font-weight: bold\">)</span><span style=\"color: #808000; text-decoration-color: #808000\">...</span>              <a href=\"file://c:\\Users\\daniel.silva\\AppData\\Local\\miniconda3\\envs\\kedro-std\\lib\\site-packages\\kedro\\io\\data_catalog.py\" target=\"_blank\"><span style=\"color: #7f7f7f; text-decoration-color: #7f7f7f\">data_catalog.py</span></a><span style=\"color: #7f7f7f; text-decoration-color: #7f7f7f\">:</span><a href=\"file://c:\\Users\\daniel.silva\\AppData\\Local\\miniconda3\\envs\\kedro-std\\lib\\site-packages\\kedro\\io\\data_catalog.py#475\" target=\"_blank\"><span style=\"color: #7f7f7f; text-decoration-color: #7f7f7f\">475</span></a>\n",
       "</pre>\n"
      ],
      "text/plain": [
       "\u001b[2;36m                   \u001b[0m\u001b[2;36m \u001b[0m\u001b[34mINFO    \u001b[0m Loading data from \u001b[32m'params:ds_rota'\u001b[0m \u001b[1m(\u001b[0mMemoryDataset\u001b[1m)\u001b[0m\u001b[33m...\u001b[0m              \u001b]8;id=499276;file://c:\\Users\\daniel.silva\\AppData\\Local\\miniconda3\\envs\\kedro-std\\lib\\site-packages\\kedro\\io\\data_catalog.py\u001b\\\u001b[2mdata_catalog.py\u001b[0m\u001b]8;;\u001b\\\u001b[2m:\u001b[0m\u001b]8;id=613968;file://c:\\Users\\daniel.silva\\AppData\\Local\\miniconda3\\envs\\kedro-std\\lib\\site-packages\\kedro\\io\\data_catalog.py#475\u001b\\\u001b[2m475\u001b[0m\u001b]8;;\u001b\\\n"
      ]
     },
     "metadata": {},
     "output_type": "display_data"
    },
    {
     "data": {
      "text/html": [
       "<pre style=\"white-space:pre;overflow-x:auto;line-height:normal;font-family:Menlo,'DejaVu Sans Mono',consolas,'Courier New',monospace\"><span style=\"color: #7fbfbf; text-decoration-color: #7fbfbf\">                    </span><span style=\"color: #000080; text-decoration-color: #000080\">INFO    </span> Loading data from <span style=\"color: #008000; text-decoration-color: #008000\">'params:cd_rota'</span> <span style=\"font-weight: bold\">(</span>MemoryDataset<span style=\"font-weight: bold\">)</span><span style=\"color: #808000; text-decoration-color: #808000\">...</span>              <a href=\"file://c:\\Users\\daniel.silva\\AppData\\Local\\miniconda3\\envs\\kedro-std\\lib\\site-packages\\kedro\\io\\data_catalog.py\" target=\"_blank\"><span style=\"color: #7f7f7f; text-decoration-color: #7f7f7f\">data_catalog.py</span></a><span style=\"color: #7f7f7f; text-decoration-color: #7f7f7f\">:</span><a href=\"file://c:\\Users\\daniel.silva\\AppData\\Local\\miniconda3\\envs\\kedro-std\\lib\\site-packages\\kedro\\io\\data_catalog.py#475\" target=\"_blank\"><span style=\"color: #7f7f7f; text-decoration-color: #7f7f7f\">475</span></a>\n",
       "</pre>\n"
      ],
      "text/plain": [
       "\u001b[2;36m                   \u001b[0m\u001b[2;36m \u001b[0m\u001b[34mINFO    \u001b[0m Loading data from \u001b[32m'params:cd_rota'\u001b[0m \u001b[1m(\u001b[0mMemoryDataset\u001b[1m)\u001b[0m\u001b[33m...\u001b[0m              \u001b]8;id=267424;file://c:\\Users\\daniel.silva\\AppData\\Local\\miniconda3\\envs\\kedro-std\\lib\\site-packages\\kedro\\io\\data_catalog.py\u001b\\\u001b[2mdata_catalog.py\u001b[0m\u001b]8;;\u001b\\\u001b[2m:\u001b[0m\u001b]8;id=19953;file://c:\\Users\\daniel.silva\\AppData\\Local\\miniconda3\\envs\\kedro-std\\lib\\site-packages\\kedro\\io\\data_catalog.py#475\u001b\\\u001b[2m475\u001b[0m\u001b]8;;\u001b\\\n"
      ]
     },
     "metadata": {},
     "output_type": "display_data"
    },
    {
     "data": {
      "text/html": [
       "<pre style=\"white-space:pre;overflow-x:auto;line-height:normal;font-family:Menlo,'DejaVu Sans Mono',consolas,'Courier New',monospace\"><span style=\"color: #7fbfbf; text-decoration-color: #7fbfbf\">                    </span><span style=\"color: #000080; text-decoration-color: #000080\">INFO    </span> Loading data from <span style=\"color: #008000; text-decoration-color: #008000\">'params:dict_rename_cols'</span> <span style=\"font-weight: bold\">(</span>MemoryDataset<span style=\"font-weight: bold\">)</span><span style=\"color: #808000; text-decoration-color: #808000\">...</span>     <a href=\"file://c:\\Users\\daniel.silva\\AppData\\Local\\miniconda3\\envs\\kedro-std\\lib\\site-packages\\kedro\\io\\data_catalog.py\" target=\"_blank\"><span style=\"color: #7f7f7f; text-decoration-color: #7f7f7f\">data_catalog.py</span></a><span style=\"color: #7f7f7f; text-decoration-color: #7f7f7f\">:</span><a href=\"file://c:\\Users\\daniel.silva\\AppData\\Local\\miniconda3\\envs\\kedro-std\\lib\\site-packages\\kedro\\io\\data_catalog.py#475\" target=\"_blank\"><span style=\"color: #7f7f7f; text-decoration-color: #7f7f7f\">475</span></a>\n",
       "</pre>\n"
      ],
      "text/plain": [
       "\u001b[2;36m                   \u001b[0m\u001b[2;36m \u001b[0m\u001b[34mINFO    \u001b[0m Loading data from \u001b[32m'params:dict_rename_cols'\u001b[0m \u001b[1m(\u001b[0mMemoryDataset\u001b[1m)\u001b[0m\u001b[33m...\u001b[0m     \u001b]8;id=459372;file://c:\\Users\\daniel.silva\\AppData\\Local\\miniconda3\\envs\\kedro-std\\lib\\site-packages\\kedro\\io\\data_catalog.py\u001b\\\u001b[2mdata_catalog.py\u001b[0m\u001b]8;;\u001b\\\u001b[2m:\u001b[0m\u001b]8;id=673414;file://c:\\Users\\daniel.silva\\AppData\\Local\\miniconda3\\envs\\kedro-std\\lib\\site-packages\\kedro\\io\\data_catalog.py#475\u001b\\\u001b[2m475\u001b[0m\u001b]8;;\u001b\\\n"
      ]
     },
     "metadata": {},
     "output_type": "display_data"
    },
    {
     "data": {
      "text/html": [
       "<pre style=\"white-space:pre;overflow-x:auto;line-height:normal;font-family:Menlo,'DejaVu Sans Mono',consolas,'Courier New',monospace\"><span style=\"color: #7fbfbf; text-decoration-color: #7fbfbf\">                    </span><span style=\"color: #000080; text-decoration-color: #000080\">INFO    </span> Loading data from <span style=\"color: #008000; text-decoration-color: #008000\">'params:ordered_cols'</span> <span style=\"font-weight: bold\">(</span>MemoryDataset<span style=\"font-weight: bold\">)</span><span style=\"color: #808000; text-decoration-color: #808000\">...</span>         <a href=\"file://c:\\Users\\daniel.silva\\AppData\\Local\\miniconda3\\envs\\kedro-std\\lib\\site-packages\\kedro\\io\\data_catalog.py\" target=\"_blank\"><span style=\"color: #7f7f7f; text-decoration-color: #7f7f7f\">data_catalog.py</span></a><span style=\"color: #7f7f7f; text-decoration-color: #7f7f7f\">:</span><a href=\"file://c:\\Users\\daniel.silva\\AppData\\Local\\miniconda3\\envs\\kedro-std\\lib\\site-packages\\kedro\\io\\data_catalog.py#475\" target=\"_blank\"><span style=\"color: #7f7f7f; text-decoration-color: #7f7f7f\">475</span></a>\n",
       "</pre>\n"
      ],
      "text/plain": [
       "\u001b[2;36m                   \u001b[0m\u001b[2;36m \u001b[0m\u001b[34mINFO    \u001b[0m Loading data from \u001b[32m'params:ordered_cols'\u001b[0m \u001b[1m(\u001b[0mMemoryDataset\u001b[1m)\u001b[0m\u001b[33m...\u001b[0m         \u001b]8;id=522716;file://c:\\Users\\daniel.silva\\AppData\\Local\\miniconda3\\envs\\kedro-std\\lib\\site-packages\\kedro\\io\\data_catalog.py\u001b\\\u001b[2mdata_catalog.py\u001b[0m\u001b]8;;\u001b\\\u001b[2m:\u001b[0m\u001b]8;id=376895;file://c:\\Users\\daniel.silva\\AppData\\Local\\miniconda3\\envs\\kedro-std\\lib\\site-packages\\kedro\\io\\data_catalog.py#475\u001b\\\u001b[2m475\u001b[0m\u001b]8;;\u001b\\\n"
      ]
     },
     "metadata": {},
     "output_type": "display_data"
    }
   ],
   "source": [
    "object_cols = catalog.load('params:object_cols')\n",
    "int_cols = catalog.load('params:int_cols')\n",
    "float_cols = catalog.load('params:float_cols')\n",
    "date_cols = catalog.load('params:date_cols')\n",
    "ds_rota = catalog.load('params:ds_rota')\n",
    "cd_rota = catalog.load('params:cd_rota')\n",
    "dict_rename_cols = catalog.load('params:dict_rename_cols')\n",
    "ordered_cols = catalog.load('params:ordered_cols')"
   ]
  },
  {
   "cell_type": "code",
   "execution_count": null,
   "metadata": {},
   "outputs": [],
   "source": []
  }
 ],
 "metadata": {
  "kernelspec": {
   "display_name": "Kedro (ethanol_brazil_plants)",
   "language": "python",
   "name": "kedro_ethanol_brazil_plants"
  },
  "language_info": {
   "codemirror_mode": {
    "name": "ipython",
    "version": 3
   },
   "file_extension": ".py",
   "mimetype": "text/x-python",
   "name": "python",
   "nbconvert_exporter": "python",
   "pygments_lexer": "ipython3",
   "version": "3.9.17"
  },
  "orig_nbformat": 4
 },
 "nbformat": 4,
 "nbformat_minor": 2
}
