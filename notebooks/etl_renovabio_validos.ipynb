{
 "cells": [
  {
   "attachments": {},
   "cell_type": "markdown",
   "metadata": {},
   "source": [
    "# Libraries"
   ]
  },
  {
   "cell_type": "code",
   "execution_count": 19,
   "metadata": {},
   "outputs": [],
   "source": [
    "import pandas as pd\n",
    "import numpy as np\n",
    "\n",
    "from ethanol_brazil_plants.utils import utils\n",
    "\n",
    "from datetime import date\n",
    "from xlrd.xldate import xldate_as_datetime"
   ]
  },
  {
   "attachments": {},
   "cell_type": "markdown",
   "metadata": {},
   "source": [
    "# Functions"
   ]
  },
  {
   "cell_type": "code",
   "execution_count": 20,
   "metadata": {},
   "outputs": [],
   "source": [
    "def normalize_renovabio_database(\n",
    "    raw_df: pd.DataFrame,\n",
    "    object_cols: list[str],\n",
    "    int_cols: list[str],\n",
    "    float_cols: list[str],\n",
    "    date_cols: list[str],\n",
    ") -> pd.DataFrame:\n",
    "    \"\"\"\n",
    "    Normalize renovabio database columns\n",
    "    \"\"\"\n",
    "\n",
    "    normalized_df = utils.normalize_header(raw_df)\n",
    "    normalized_df = normalized_df.fillna(method='ffill')\n",
    "\n",
    "    normalized_df = utils.normalize_object_columns(normalized_df, object_cols)\n",
    "    normalized_df = normalized_df[normalized_df['CNPJ'] != '']\n",
    "\n",
    "    normalized_df = utils.normalize_int_columns(normalized_df, int_cols)\n",
    "    normalized_df = utils.normalize_float_columns(normalized_df, float_cols)\n",
    "\n",
    "    normalized_df = utils.normalize_date_columns(normalized_df, date_cols)\n",
    "\n",
    "    return normalized_df"
   ]
  },
  {
   "cell_type": "code",
   "execution_count": 21,
   "metadata": {},
   "outputs": [],
   "source": [
    "def generate_razao_cidade_uf(normalized_df: pd.DataFrame) -> pd.DataFrame:\n",
    "    \"\"\"\n",
    "    Generate RAZAO_SOCIAL, CIDADE and UF columns.\n",
    "    \"\"\"\n",
    "\n",
    "    normalized_df['RAZAO_SOCIAL'] = normalized_df['RAZAO_SOCIAL-CIDADE-UF'].str.split('-').str[0]\n",
    "\n",
    "    normalized_df[['CIDADE', 'UF', 'UF_2']] = (\n",
    "        normalized_df['RAZAO_SOCIAL-CIDADE-UF']\n",
    "        .str.split('-')\n",
    "        .str[-2:]\n",
    "        .str.join(',')\n",
    "        .str.split(',', expand=True)\n",
    "    )\n",
    "\n",
    "    normalized_df['UF'] = np.where(\n",
    "        normalized_df['UF'].isnull(),\n",
    "        normalized_df['UF_2'],\n",
    "        normalized_df['UF']\n",
    "    )\n",
    "\n",
    "    normalized_df['CIDADE'] = np.where(\n",
    "        normalized_df['RAZAO_SOCIAL'] !=\n",
    "        normalized_df['CIDADE'],\n",
    "        normalized_df['CIDADE'],\n",
    "        None\n",
    "    )\n",
    "\n",
    "    normalized_df = normalized_df.drop(['RAZAO_SOCIAL-CIDADE-UF', 'UF_2'], axis=1)\n",
    "    return normalized_df"
   ]
  },
  {
   "attachments": {},
   "cell_type": "markdown",
   "metadata": {},
   "source": [
    "# Data"
   ]
  },
  {
   "cell_type": "code",
   "execution_count": 22,
   "metadata": {},
   "outputs": [
    {
     "data": {
      "text/html": [
       "<pre style=\"white-space:pre;overflow-x:auto;line-height:normal;font-family:Menlo,'DejaVu Sans Mono',consolas,'Courier New',monospace\"><span style=\"color: #7fbfbf; text-decoration-color: #7fbfbf\">[08/05/23 21:12:02] </span><span style=\"color: #000080; text-decoration-color: #000080\">INFO    </span> Loading data from <span style=\"color: #008000; text-decoration-color: #008000\">'raw_renovabio_plants_validos'</span> <span style=\"font-weight: bold\">(</span>ExcelDataSet<span style=\"font-weight: bold\">)</span><span style=\"color: #808000; text-decoration-color: #808000\">...</span> <a href=\"file://C:\\Users\\daniel.silva\\AppData\\Local\\miniconda3\\envs\\kedro-std\\lib\\site-packages\\kedro\\io\\data_catalog.py\" target=\"_blank\"><span style=\"color: #7f7f7f; text-decoration-color: #7f7f7f\">data_catalog.py</span></a><span style=\"color: #7f7f7f; text-decoration-color: #7f7f7f\">:</span><a href=\"file://C:\\Users\\daniel.silva\\AppData\\Local\\miniconda3\\envs\\kedro-std\\lib\\site-packages\\kedro\\io\\data_catalog.py#475\" target=\"_blank\"><span style=\"color: #7f7f7f; text-decoration-color: #7f7f7f\">475</span></a>\n",
       "</pre>\n"
      ],
      "text/plain": [
       "\u001b[2;36m[08/05/23 21:12:02]\u001b[0m\u001b[2;36m \u001b[0m\u001b[34mINFO    \u001b[0m Loading data from \u001b[32m'raw_renovabio_plants_validos'\u001b[0m \u001b[1m(\u001b[0mExcelDataSet\u001b[1m)\u001b[0m\u001b[33m...\u001b[0m \u001b]8;id=872508;file://C:\\Users\\daniel.silva\\AppData\\Local\\miniconda3\\envs\\kedro-std\\lib\\site-packages\\kedro\\io\\data_catalog.py\u001b\\\u001b[2mdata_catalog.py\u001b[0m\u001b]8;;\u001b\\\u001b[2m:\u001b[0m\u001b]8;id=113003;file://C:\\Users\\daniel.silva\\AppData\\Local\\miniconda3\\envs\\kedro-std\\lib\\site-packages\\kedro\\io\\data_catalog.py#475\u001b\\\u001b[2m475\u001b[0m\u001b]8;;\u001b\\\n"
      ]
     },
     "metadata": {},
     "output_type": "display_data"
    }
   ],
   "source": [
    "raw_rbp_validos = catalog.load(\"raw_renovabio_plants_validos\")"
   ]
  },
  {
   "attachments": {},
   "cell_type": "markdown",
   "metadata": {},
   "source": [
    "# Normalize"
   ]
  },
  {
   "cell_type": "code",
   "execution_count": 23,
   "metadata": {},
   "outputs": [],
   "source": [
    "# Normalize\n",
    "object_cols = [\n",
    "    'RAZAO_SOCIAL-CIDADE-UF',\n",
    "    'BIOCOMBUSTIVEL',\n",
    "    'ROTA',\n",
    "    'FIRMA_INSPETORA',\n",
    "    'ENDERECO_EMISSOR_PRIMARIO',\n",
    "    'CNPJ',\n",
    "    'PROCESSO_DE_CERTIFICACAO',\n",
    "]\n",
    "\n",
    "int_cols = [\n",
    "    'CNPJ',\n",
    "    'PROCESSO_DE_CERTIFICACAO']\n",
    "    \n",
    "float_cols = [\n",
    "    'NOTA_DE_EFICIENCIA_ENERGETICO-AMBIENTAL_GCO2EQ/MJ',\n",
    "    'VOLUME_ELEGIVEL_%',\n",
    "    'FATOR_PARA_EMISSAO_DE_CBIO_TCO2EQ/L',\n",
    "]\n",
    "\n",
    "date_cols = ['DATA_DE_APROVACAO_PELA_ANP', 'VALIDADE']\n",
    "\n",
    "normalized_rbp_validos = normalize_renovabio_database(\n",
    "    raw_rbp_validos, object_cols,\n",
    "    int_cols, float_cols, date_cols,\n",
    ")"
   ]
  },
  {
   "attachments": {},
   "cell_type": "markdown",
   "metadata": {},
   "source": [
    "# RAZAO_SOCIAL, CIDADE and UF"
   ]
  },
  {
   "cell_type": "code",
   "execution_count": 24,
   "metadata": {},
   "outputs": [],
   "source": [
    "normalized_rbp_validos = generate_razao_cidade_uf(normalized_rbp_validos)"
   ]
  },
  {
   "attachments": {},
   "cell_type": "markdown",
   "metadata": {},
   "source": [
    "# Rota"
   ]
  },
  {
   "cell_type": "code",
   "execution_count": 25,
   "metadata": {},
   "outputs": [],
   "source": [
    "ds_rota = {\n",
    "    'ETANOL COMBUSTIVEL DE PRIMEIRA GERACAO CANA-DE-ACUCAR':\n",
    "    'ETANOL 1GEN CANA',\n",
    "    'ETANOL COMBUSTIVEL DE PRIMEIRA GERACAO CANA-DE-ACUCAR E MILHO EM USINA INTEGRADA':\n",
    "    'ETANOL 1GEN CANA E MILHO',\n",
    "    'ETANOL COMBUSTIVEL DE PRIMEIRA GERACAO MILHO':\n",
    "    'ETANOL 1GEN MILHO',\n",
    "    'ETANOL COMBUSTIVEL DE PRIMEIRA E SEGUNDA GERACAO PRODUZIDO EM USINA INTEGRADA':\n",
    "    'ETANOL 1GEN E 2GEN',\n",
    "}\n",
    "\n",
    "cd_rota = {\n",
    "    'BIODIESEL': 1,\n",
    "    'BIOMETANO': 2,\n",
    "    'ETANOL 1GEN E 2GEN': 3,\n",
    "    'ETANOL 1GEN CANA': 4,\n",
    "    'ETANOL 1GEN CANA E MILHO': 5,\n",
    "    'ETANOL 1GEN MILHO': 6,\n",
    "}\n",
    "\n",
    "normalized_rbp_validos['DS_ROTA'] = normalized_rbp_validos['ROTA'].replace(ds_rota)\n",
    "normalized_rbp_validos['CD_ROTA'] = normalized_rbp_validos['DS_ROTA'].replace(cd_rota)"
   ]
  },
  {
   "attachments": {},
   "cell_type": "markdown",
   "metadata": {},
   "source": [
    "# Location"
   ]
  },
  {
   "attachments": {},
   "cell_type": "markdown",
   "metadata": {},
   "source": [
    "## CEP"
   ]
  },
  {
   "cell_type": "code",
   "execution_count": 26,
   "metadata": {},
   "outputs": [],
   "source": [
    "normalized_rbp_validos['CEP'] = (\n",
    "    normalized_rbp_validos['ENDERECO_EMISSOR_PRIMARIO']\n",
    "    .str.replace('.','')\n",
    "    .str.replace(r'-(\\s+)', '-', regex=True)\n",
    "    .str.findall(r'\\d{5}-\\d{3}|\\d{5}-\\d{2}')\n",
    "    .str[0]\n",
    "    .str.replace('-','')\n",
    "    .str.pad(8, side='right', fillchar='0')\n",
    ")"
   ]
  }
 ],
 "metadata": {
  "kernelspec": {
   "display_name": "Kedro (ethanol_brazil_plants)",
   "language": "python",
   "name": "kedro_ethanol_brazil_plants"
  },
  "language_info": {
   "codemirror_mode": {
    "name": "ipython",
    "version": 3
   },
   "file_extension": ".py",
   "mimetype": "text/x-python",
   "name": "python",
   "nbconvert_exporter": "python",
   "pygments_lexer": "ipython3",
   "version": "3.9.17"
  },
  "orig_nbformat": 4
 },
 "nbformat": 4,
 "nbformat_minor": 2
}
