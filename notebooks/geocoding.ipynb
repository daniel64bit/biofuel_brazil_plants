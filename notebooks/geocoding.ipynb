{
 "cells": [
  {
   "attachments": {},
   "cell_type": "markdown",
   "metadata": {},
   "source": [
    "# Request"
   ]
  },
  {
   "cell_type": "code",
   "execution_count": 1,
   "metadata": {},
   "outputs": [],
   "source": [
    "# import re\n",
    "# import requests\n",
    "# from bs4 import BeautifulSoup"
   ]
  },
  {
   "cell_type": "code",
   "execution_count": 2,
   "metadata": {},
   "outputs": [],
   "source": [
    "# def geocode_address(\n",
    "#     address: str\n",
    "# ) -> str:\n",
    "#     \"\"\"\n",
    "#     Generate latitude and longitude from address using Google Maps.\n",
    "#     Args:\n",
    "#         address: Address to be geocoded.\n",
    "#     \"\"\"\n",
    "#     # User agent and headers from: https://stackoverflow.com/a/51955893\n",
    "#     user_agent='Mozilla/5.0 (Macintosh; Intel Mac OS X 10_12_1) AppleWebKit/602.2.14 (KHTML, like Gecko) Version/10.0.1 Safari/602.2.14'\n",
    "#     headers = {'User-Agent': user_agent,'Accept':'text/html,application/xhtml+xml,application/xml;q=0.9,image/webp,*/*;q=0.8'}\n",
    "\n",
    "#     address = address.replace(' ', '+')\n",
    "#     r = requests.get(f'https://www.google.com.br/maps/place/{address}',headers=headers)\n",
    "#     soup = BeautifulSoup(r.content, 'html.parser')\n",
    "#     try:\n",
    "#         full_content = ''\n",
    "#         for item in soup.find_all('meta'):\n",
    "#             full_content += item['content']\n",
    "\n",
    "#         latlong = re.findall(r'-\\d+.\\d+,-\\d+.\\d+', full_content)[0]\n",
    "\n",
    "#         time.sleep(2)    \n",
    "#         return latlong\n",
    "#     except:\n",
    "#         return None"
   ]
  },
  {
   "cell_type": "code",
   "execution_count": 3,
   "metadata": {},
   "outputs": [],
   "source": [
    "# # Bing\n",
    "# user_agent='Mozilla/5.0 (Macintosh; Intel Mac OS X 10_12_1) AppleWebKit/602.2.14 (KHTML, like Gecko) Version/10.0.1 Safari/602.2.14'\n",
    "# headers = {'User-Agent': user_agent,'Accept':'text/html,application/xhtml+xml,application/xml;q=0.9,image/webp,*/*;q=0.8'}\n",
    "\n",
    "# address = 'RODOVIA 163 - KM 118 - ZONA RURAL. CEP:79950-000 - NAVIRAI/MS'\n",
    "# r = requests.get(f'https://www.bing.com/maps?q={address}',headers=headers)\n",
    "# soup = BeautifulSoup(r.content, 'html.parser')\n",
    "\n",
    "# print(soup.prettify())"
   ]
  },
  {
   "cell_type": "markdown",
   "metadata": {},
   "source": [
    "# Selenium"
   ]
  },
  {
   "cell_type": "code",
   "execution_count": 5,
   "metadata": {},
   "outputs": [],
   "source": [
    "import os\n",
    "import re\n",
    "import time\n",
    "import pandas as pd\n",
    "import selenium.webdriver as webdriver\n",
    "from selenium.webdriver.firefox.service import Service\n",
    "from selenium.webdriver.firefox.options import Options\n",
    "from random import random\n",
    "\n",
    "def selenium_setup() -> tuple:\n",
    "    \"\"\"\n",
    "    Setup selenium webdriver for Firefox\n",
    "    \"\"\"\n",
    "\n",
    "    user_agent = 'Mozilla/5.0 (Windows NT 10.0; Win64; x64; rv:109.0) Gecko/20100101 Firefox/114.0'\n",
    "    mozilla_driver = os.path.join('../data/01_raw', 'geckodriver.exe')\n",
    "    mozilla_service = Service(mozilla_driver, log_output='../logs/geckodriver.log')\n",
    "    mozilla_options = Options()\n",
    "    mozilla_options.set_preference('general.useragent.override', user_agent)\n",
    "    return  mozilla_service, mozilla_options"
   ]
  },
  {
   "cell_type": "code",
   "execution_count": 2,
   "metadata": {},
   "outputs": [
    {
     "data": {
      "text/html": [
       "<pre style=\"white-space:pre;overflow-x:auto;line-height:normal;font-family:Menlo,'DejaVu Sans Mono',consolas,'Courier New',monospace\"><span style=\"color: #7fbfbf; text-decoration-color: #7fbfbf\">                    </span><span style=\"color: #000080; text-decoration-color: #000080\">INFO    </span> Loading data from <span style=\"color: #008000; text-decoration-color: #008000\">'refined_renovabio_plants'</span> <span style=\"font-weight: bold\">(</span>ParquetDataSet<span style=\"font-weight: bold\">)</span><span style=\"color: #808000; text-decoration-color: #808000\">...</span>   <a href=\"file://c:\\Users\\daniel.silva\\AppData\\Local\\miniconda3\\envs\\kedro-std\\lib\\site-packages\\kedro\\io\\data_catalog.py\" target=\"_blank\"><span style=\"color: #7f7f7f; text-decoration-color: #7f7f7f\">data_catalog.py</span></a><span style=\"color: #7f7f7f; text-decoration-color: #7f7f7f\">:</span><a href=\"file://c:\\Users\\daniel.silva\\AppData\\Local\\miniconda3\\envs\\kedro-std\\lib\\site-packages\\kedro\\io\\data_catalog.py#475\" target=\"_blank\"><span style=\"color: #7f7f7f; text-decoration-color: #7f7f7f\">475</span></a>\n",
       "</pre>\n"
      ],
      "text/plain": [
       "\u001b[2;36m                   \u001b[0m\u001b[2;36m \u001b[0m\u001b[34mINFO    \u001b[0m Loading data from \u001b[32m'refined_renovabio_plants'\u001b[0m \u001b[1m(\u001b[0mParquetDataSet\u001b[1m)\u001b[0m\u001b[33m...\u001b[0m   \u001b]8;id=64582;file://c:\\Users\\daniel.silva\\AppData\\Local\\miniconda3\\envs\\kedro-std\\lib\\site-packages\\kedro\\io\\data_catalog.py\u001b\\\u001b[2mdata_catalog.py\u001b[0m\u001b]8;;\u001b\\\u001b[2m:\u001b[0m\u001b]8;id=394841;file://c:\\Users\\daniel.silva\\AppData\\Local\\miniconda3\\envs\\kedro-std\\lib\\site-packages\\kedro\\io\\data_catalog.py#475\u001b\\\u001b[2m475\u001b[0m\u001b]8;;\u001b\\\n"
      ]
     },
     "metadata": {},
     "output_type": "display_data"
    }
   ],
   "source": [
    "rf_renovabio_plants = catalog.load(\"refined_renovabio_plants\").reset_index(drop=True)"
   ]
  },
  {
   "cell_type": "code",
   "execution_count": 3,
   "metadata": {},
   "outputs": [],
   "source": [
    "def generate_address_lists(\n",
    "    rf_renovabio_plants: pd.DataFrame,\n",
    ") -> tuple(list, list):\n",
    "    \"\"\"\n",
    "    Generate a list of addresses to be geocoded.\n",
    "    \"\"\"\n",
    "\n",
    "    rf_renovabio_plants = rf_renovabio_plants.fillna('')\n",
    "\n",
    "    address_list_v1 = (\n",
    "        rf_renovabio_plants['DS_END'].str.replace('FAZENDA', 'USINA')\n",
    "        .str.cat(\n",
    "            [rf_renovabio_plants['NO_END'],\n",
    "            rf_renovabio_plants['CIDADE'],\n",
    "            rf_renovabio_plants['UF'],\n",
    "            rf_renovabio_plants['CEP']],\n",
    "            sep=' '\n",
    "        )\n",
    "    ).tolist()\n",
    "\n",
    "    address_list_v2 = (\n",
    "        rf_renovabio_plants['CIDADE']\n",
    "        .str.cat(\n",
    "            [rf_renovabio_plants['UF'],\n",
    "            rf_renovabio_plants['CEP']],\n",
    "            sep=' '\n",
    "        )\n",
    "    ).tolist()\n",
    "\n",
    "    return address_list_v1, address_list_v2"
   ]
  },
  {
   "cell_type": "code",
   "execution_count": 7,
   "metadata": {},
   "outputs": [],
   "source": [
    "def get_latlong_from_url(url: str) -> tuple:\n",
    "    \"\"\"\n",
    "    Returns latitude and longitude from a Bing Maps URL\n",
    "    \"\"\"\n",
    "    latlong = re.findall(r'-?\\d{1,2}\\.\\d{3,}', url)\n",
    "    latitude = float(latlong[0])\n",
    "    longitude = float(latlong[1])\n",
    "    return latitude, longitude\n",
    "\n",
    "\n",
    "def selenium_geocode(\n",
    "    mozilla_service,\n",
    "    mozilla_options,\n",
    "    address_list_v1: list,\n",
    "    address_list_v2: list,\n",
    ") -> pd.DataFrame:\n",
    "    \"\"\"\n",
    "    Geocodes addresses using Selenium and Firefox\n",
    "    \"\"\"\n",
    "    # Launch browser\n",
    "    browser = webdriver.Firefox(service=mozilla_service, options=mozilla_options)\n",
    "\n",
    "    # Geocoding addresses\n",
    "    latitude = []\n",
    "    longitude = []\n",
    "\n",
    "    first_iter = True\n",
    "    for i in range(len(address_list_v1)):\n",
    "        browser.get(f'https://www.bing.com/maps?q={address_list_v1[i]}')\n",
    "\n",
    "        # Longer sleep time for first iteration (browser opens)\n",
    "        if first_iter is True:\n",
    "            time.sleep(6)\n",
    "            first_iter = False\n",
    "        else:\n",
    "            time.sleep(3.1 + random())\n",
    "\n",
    "        lat, long = get_latlong_from_url(browser.current_url)\n",
    "\n",
    "        # If address is not found, try to geocode only the last 3 address columns\n",
    "        ckeck_results = re.findall('Não há resultados para:', browser.page_source)\n",
    "        if len(ckeck_results) > 0:\n",
    "            browser.get(f'https://www.bing.com/maps?q={address_list_v2[i]}')\n",
    "            time.sleep(3.1)\n",
    "\n",
    "            lat, long = get_latlong_from_url(browser.current_url)\n",
    "\n",
    "        latitude.append(lat)\n",
    "        longitude.append(long)\n",
    "\n",
    "    browser.quit()\n",
    "\n",
    "    df_latlong = pd.DataFrame({'LATITUDE': latitude, 'LONGITUDE': longitude})\n",
    "    return df_latlong"
   ]
  },
  {
   "cell_type": "code",
   "execution_count": 8,
   "metadata": {},
   "outputs": [],
   "source": [
    "def geocode_renovabio_plants(\n",
    "    rf_renovabio_plants: pd.DataFrame,\n",
    "):\n",
    "\n",
    "    mozilla_service, mozilla_options = selenium_setup()\n",
    "    address_list_v1, address_list_v2 = generate_address_lists(rf_renovabio_plants)\n",
    "\n",
    "    df_latlong = selenium_geocode(\n",
    "        mozilla_service, mozilla_options,\n",
    "        address_list_v1, address_list_v2,\n",
    "    )\n",
    "\n",
    "    rf_renovabio_plants_geocoded = pd.concat([\n",
    "        rf_renovabio_plants, df_latlong\n",
    "    ], axis=1, ignore_index=False)\n",
    "\n",
    "    return rf_renovabio_plants_geocoded"
   ]
  }
 ],
 "metadata": {
  "kernelspec": {
   "display_name": "Kedro (ethanol_brazil_plants)",
   "language": "python",
   "name": "kedro_ethanol_brazil_plants"
  },
  "language_info": {
   "codemirror_mode": {
    "name": "ipython",
    "version": 3
   },
   "file_extension": ".py",
   "mimetype": "text/x-python",
   "name": "python",
   "nbconvert_exporter": "python",
   "pygments_lexer": "ipython3",
   "version": "3.9.17"
  },
  "orig_nbformat": 4
 },
 "nbformat": 4,
 "nbformat_minor": 2
}
