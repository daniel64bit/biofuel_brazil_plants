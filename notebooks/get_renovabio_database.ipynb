{
 "cells": [
  {
   "cell_type": "code",
   "execution_count": 1,
   "metadata": {},
   "outputs": [],
   "source": [
    "import requests\n",
    "from bs4 import BeautifulSoup"
   ]
  },
  {
   "cell_type": "code",
   "execution_count": 12,
   "metadata": {},
   "outputs": [],
   "source": [
    "def download_file(url: str, save_path: str) -> None:\n",
    "    \"\"\"\n",
    "    Download file file from url and save it to save_path.\n",
    "    \"\"\"\n",
    "\n",
    "    try:\n",
    "        response = requests.get(url)\n",
    "\n",
    "        with open(save_path, 'wb') as file:\n",
    "            file.write(response.content)\n",
    "\n",
    "    except requests.exceptions.RequestException as e:\n",
    "        print(f\"An error occurred: {e}\")"
   ]
  },
  {
   "cell_type": "code",
   "execution_count": 13,
   "metadata": {},
   "outputs": [],
   "source": [
    "def extract_renovabio_database_link(renovabio_url: str) -> str:\n",
    "    \"\"\"\n",
    "    Extracts renovabio database link.\n",
    "    \"\"\"\n",
    "\n",
    "    try:\n",
    "        response = requests.get(renovabio_url)\n",
    "        soup = BeautifulSoup(response.text, 'html.parser')\n",
    "\n",
    "        found_link = soup.find_all('a', attrs={'class': 'internal-link'})\n",
    "        found_link = found_link[0]['href']\n",
    "        return found_link\n",
    "\n",
    "    except requests.exceptions.RequestException as e:\n",
    "        print(f\"An error occurred while making the request: {e}\")\n",
    "        return None"
   ]
  },
  {
   "cell_type": "code",
   "execution_count": 14,
   "metadata": {},
   "outputs": [],
   "source": [
    "def download_renovabio_database(renovabio_url, save_path) -> None:\n",
    "    \"\"\"\n",
    "    Download and save Renovabio plants database.\n",
    "    \"\"\"\n",
    "    \n",
    "    database_url = extract_renovabio_database_link(renovabio_url)\n",
    "    download_file(database_url, save_path)\n",
    "    return None"
   ]
  }
 ],
 "metadata": {
  "kernelspec": {
   "display_name": "Kedro (ethanol_brazil_plants)",
   "language": "python",
   "name": "kedro_ethanol_brazil_plants"
  },
  "orig_nbformat": 4
 },
 "nbformat": 4,
 "nbformat_minor": 2
}
